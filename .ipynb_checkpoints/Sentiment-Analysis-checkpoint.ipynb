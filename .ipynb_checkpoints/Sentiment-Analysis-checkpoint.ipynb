{
 "cells": [
  {
   "cell_type": "markdown",
   "metadata": {},
   "source": [
    "# Import Library dan load data"
   ]
  },
  {
   "cell_type": "code",
   "execution_count": 1,
   "metadata": {},
   "outputs": [],
   "source": [
    "import pandas as pd"
   ]
  },
  {
   "cell_type": "code",
   "execution_count": 2,
   "metadata": {},
   "outputs": [],
   "source": [
    "data = pd.read_csv('dataset/datatesting.csv')"
   ]
  },
  {
   "cell_type": "code",
   "execution_count": 3,
   "metadata": {},
   "outputs": [
    {
     "data": {
      "text/plain": [
       "(61, 3)"
      ]
     },
     "execution_count": 3,
     "metadata": {},
     "output_type": "execute_result"
    }
   ],
   "source": [
    "data.shape"
   ]
  },
  {
   "cell_type": "code",
   "execution_count": 4,
   "metadata": {},
   "outputs": [
    {
     "data": {
      "text/html": [
       "<div>\n",
       "<style scoped>\n",
       "    .dataframe tbody tr th:only-of-type {\n",
       "        vertical-align: middle;\n",
       "    }\n",
       "\n",
       "    .dataframe tbody tr th {\n",
       "        vertical-align: top;\n",
       "    }\n",
       "\n",
       "    .dataframe thead th {\n",
       "        text-align: right;\n",
       "    }\n",
       "</style>\n",
       "<table border=\"1\" class=\"dataframe\">\n",
       "  <thead>\n",
       "    <tr style=\"text-align: right;\">\n",
       "      <th></th>\n",
       "      <th>ID</th>\n",
       "      <th>Ulasan</th>\n",
       "      <th>Kelas</th>\n",
       "    </tr>\n",
       "  </thead>\n",
       "  <tbody>\n",
       "    <tr>\n",
       "      <th>0</th>\n",
       "      <td>1</td>\n",
       "      <td>Produknya lengkap. Pokoknya mantap</td>\n",
       "      <td>Positif</td>\n",
       "    </tr>\n",
       "    <tr>\n",
       "      <th>1</th>\n",
       "      <td>2</td>\n",
       "      <td>very good bukalapak is the best</td>\n",
       "      <td>Positif</td>\n",
       "    </tr>\n",
       "    <tr>\n",
       "      <th>2</th>\n",
       "      <td>3</td>\n",
       "      <td>Sangat memuaskan belanja di Bukalapak</td>\n",
       "      <td>Positif</td>\n",
       "    </tr>\n",
       "    <tr>\n",
       "      <th>3</th>\n",
       "      <td>4</td>\n",
       "      <td>good Apps memang bukalapak</td>\n",
       "      <td>Positif</td>\n",
       "    </tr>\n",
       "    <tr>\n",
       "      <th>4</th>\n",
       "      <td>5</td>\n",
       "      <td>Aplikasi ecommerce recomended</td>\n",
       "      <td>Positif</td>\n",
       "    </tr>\n",
       "  </tbody>\n",
       "</table>\n",
       "</div>"
      ],
      "text/plain": [
       "   ID                                 Ulasan    Kelas\n",
       "0   1     Produknya lengkap. Pokoknya mantap  Positif\n",
       "1   2        very good bukalapak is the best  Positif\n",
       "2   3  Sangat memuaskan belanja di Bukalapak  Positif\n",
       "3   4             good Apps memang bukalapak  Positif\n",
       "4   5          Aplikasi ecommerce recomended  Positif"
      ]
     },
     "execution_count": 4,
     "metadata": {},
     "output_type": "execute_result"
    }
   ],
   "source": [
    "data.head(5)"
   ]
  },
  {
   "cell_type": "code",
   "execution_count": 5,
   "metadata": {},
   "outputs": [
    {
     "data": {
      "text/html": [
       "<div>\n",
       "<style scoped>\n",
       "    .dataframe tbody tr th:only-of-type {\n",
       "        vertical-align: middle;\n",
       "    }\n",
       "\n",
       "    .dataframe tbody tr th {\n",
       "        vertical-align: top;\n",
       "    }\n",
       "\n",
       "    .dataframe thead th {\n",
       "        text-align: right;\n",
       "    }\n",
       "</style>\n",
       "<table border=\"1\" class=\"dataframe\">\n",
       "  <thead>\n",
       "    <tr style=\"text-align: right;\">\n",
       "      <th></th>\n",
       "      <th>ID</th>\n",
       "      <th>Ulasan</th>\n",
       "      <th>Kelas</th>\n",
       "    </tr>\n",
       "  </thead>\n",
       "  <tbody>\n",
       "    <tr>\n",
       "      <th>56</th>\n",
       "      <td>57</td>\n",
       "      <td>Ada kendala pembelian, si pelapak penipu dan s...</td>\n",
       "      <td>Negatif</td>\n",
       "    </tr>\n",
       "    <tr>\n",
       "      <th>57</th>\n",
       "      <td>58</td>\n",
       "      <td>Kenapa saya gak bisa daftar no telepon di apli...</td>\n",
       "      <td>Negatif</td>\n",
       "    </tr>\n",
       "    <tr>\n",
       "      <th>58</th>\n",
       "      <td>59</td>\n",
       "      <td>hati2 buka lapak banyak penipu. saya rugi besa...</td>\n",
       "      <td>Negatif</td>\n",
       "    </tr>\n",
       "    <tr>\n",
       "      <th>59</th>\n",
       "      <td>60</td>\n",
       "      <td>aplikasinya EROR terooossss</td>\n",
       "      <td>Negatif</td>\n",
       "    </tr>\n",
       "    <tr>\n",
       "      <th>60</th>\n",
       "      <td>60</td>\n",
       "      <td>bukalapak jelek</td>\n",
       "      <td>Negatif</td>\n",
       "    </tr>\n",
       "  </tbody>\n",
       "</table>\n",
       "</div>"
      ],
      "text/plain": [
       "    ID                                             Ulasan    Kelas\n",
       "56  57  Ada kendala pembelian, si pelapak penipu dan s...  Negatif\n",
       "57  58  Kenapa saya gak bisa daftar no telepon di apli...  Negatif\n",
       "58  59  hati2 buka lapak banyak penipu. saya rugi besa...  Negatif\n",
       "59  60                        aplikasinya EROR terooossss  Negatif\n",
       "60  60                                    bukalapak jelek  Negatif"
      ]
     },
     "execution_count": 5,
     "metadata": {},
     "output_type": "execute_result"
    }
   ],
   "source": [
    "data.tail(5)"
   ]
  },
  {
   "cell_type": "code",
   "execution_count": 6,
   "metadata": {},
   "outputs": [
    {
     "data": {
      "text/html": [
       "<div>\n",
       "<style scoped>\n",
       "    .dataframe tbody tr th:only-of-type {\n",
       "        vertical-align: middle;\n",
       "    }\n",
       "\n",
       "    .dataframe tbody tr th {\n",
       "        vertical-align: top;\n",
       "    }\n",
       "\n",
       "    .dataframe thead th {\n",
       "        text-align: right;\n",
       "    }\n",
       "</style>\n",
       "<table border=\"1\" class=\"dataframe\">\n",
       "  <thead>\n",
       "    <tr style=\"text-align: right;\">\n",
       "      <th></th>\n",
       "      <th>ID</th>\n",
       "      <th>Ulasan</th>\n",
       "      <th>Kelas</th>\n",
       "    </tr>\n",
       "  </thead>\n",
       "  <tbody>\n",
       "    <tr>\n",
       "      <th>38</th>\n",
       "      <td>39</td>\n",
       "      <td>saya sangat kecewa dengan tanggung jawab bukal...</td>\n",
       "      <td>Negatif</td>\n",
       "    </tr>\n",
       "    <tr>\n",
       "      <th>41</th>\n",
       "      <td>42</td>\n",
       "      <td>Banyak disini pelapak sifat nya menipu dengan ...</td>\n",
       "      <td>Negatif</td>\n",
       "    </tr>\n",
       "    <tr>\n",
       "      <th>51</th>\n",
       "      <td>52</td>\n",
       "      <td>sampai hari ini gak ada tanggapan bagaimana ti...</td>\n",
       "      <td>Negatif</td>\n",
       "    </tr>\n",
       "    <tr>\n",
       "      <th>31</th>\n",
       "      <td>32</td>\n",
       "      <td>setelah update saya turun rating. karena beber...</td>\n",
       "      <td>Negatif</td>\n",
       "    </tr>\n",
       "    <tr>\n",
       "      <th>24</th>\n",
       "      <td>25</td>\n",
       "      <td>Teruslah menjadi fokus utama kepada pelanggan</td>\n",
       "      <td>Positif</td>\n",
       "    </tr>\n",
       "  </tbody>\n",
       "</table>\n",
       "</div>"
      ],
      "text/plain": [
       "    ID                                             Ulasan    Kelas\n",
       "38  39  saya sangat kecewa dengan tanggung jawab bukal...  Negatif\n",
       "41  42  Banyak disini pelapak sifat nya menipu dengan ...  Negatif\n",
       "51  52  sampai hari ini gak ada tanggapan bagaimana ti...  Negatif\n",
       "31  32  setelah update saya turun rating. karena beber...  Negatif\n",
       "24  25      Teruslah menjadi fokus utama kepada pelanggan  Positif"
      ]
     },
     "execution_count": 6,
     "metadata": {},
     "output_type": "execute_result"
    }
   ],
   "source": [
    "data.sample(5)"
   ]
  },
  {
   "cell_type": "code",
   "execution_count": 7,
   "metadata": {},
   "outputs": [
    {
     "data": {
      "text/html": [
       "<div>\n",
       "<style scoped>\n",
       "    .dataframe tbody tr th:only-of-type {\n",
       "        vertical-align: middle;\n",
       "    }\n",
       "\n",
       "    .dataframe tbody tr th {\n",
       "        vertical-align: top;\n",
       "    }\n",
       "\n",
       "    .dataframe thead th {\n",
       "        text-align: right;\n",
       "    }\n",
       "</style>\n",
       "<table border=\"1\" class=\"dataframe\">\n",
       "  <thead>\n",
       "    <tr style=\"text-align: right;\">\n",
       "      <th></th>\n",
       "      <th>ID</th>\n",
       "    </tr>\n",
       "  </thead>\n",
       "  <tbody>\n",
       "    <tr>\n",
       "      <th>count</th>\n",
       "      <td>61.000000</td>\n",
       "    </tr>\n",
       "    <tr>\n",
       "      <th>mean</th>\n",
       "      <td>30.983607</td>\n",
       "    </tr>\n",
       "    <tr>\n",
       "      <th>std</th>\n",
       "      <td>17.725210</td>\n",
       "    </tr>\n",
       "    <tr>\n",
       "      <th>min</th>\n",
       "      <td>1.000000</td>\n",
       "    </tr>\n",
       "    <tr>\n",
       "      <th>25%</th>\n",
       "      <td>16.000000</td>\n",
       "    </tr>\n",
       "    <tr>\n",
       "      <th>50%</th>\n",
       "      <td>31.000000</td>\n",
       "    </tr>\n",
       "    <tr>\n",
       "      <th>75%</th>\n",
       "      <td>46.000000</td>\n",
       "    </tr>\n",
       "    <tr>\n",
       "      <th>max</th>\n",
       "      <td>60.000000</td>\n",
       "    </tr>\n",
       "  </tbody>\n",
       "</table>\n",
       "</div>"
      ],
      "text/plain": [
       "              ID\n",
       "count  61.000000\n",
       "mean   30.983607\n",
       "std    17.725210\n",
       "min     1.000000\n",
       "25%    16.000000\n",
       "50%    31.000000\n",
       "75%    46.000000\n",
       "max    60.000000"
      ]
     },
     "execution_count": 7,
     "metadata": {},
     "output_type": "execute_result"
    }
   ],
   "source": [
    "data.describe()"
   ]
  },
  {
   "cell_type": "code",
   "execution_count": 8,
   "metadata": {},
   "outputs": [
    {
     "data": {
      "text/plain": [
       "Index(['ID', 'Ulasan', 'Kelas'], dtype='object')"
      ]
     },
     "execution_count": 8,
     "metadata": {},
     "output_type": "execute_result"
    }
   ],
   "source": [
    "data.columns"
   ]
  },
  {
   "cell_type": "code",
   "execution_count": 9,
   "metadata": {},
   "outputs": [
    {
     "data": {
      "text/plain": [
       "Negatif    31\n",
       "Positif    30\n",
       "Name: Kelas, dtype: int64"
      ]
     },
     "execution_count": 9,
     "metadata": {},
     "output_type": "execute_result"
    }
   ],
   "source": [
    "data['Kelas'].value_counts()"
   ]
  },
  {
   "cell_type": "code",
   "execution_count": 10,
   "metadata": {},
   "outputs": [
    {
     "data": {
      "text/plain": [
       "pandas.core.series.Series"
      ]
     },
     "execution_count": 10,
     "metadata": {},
     "output_type": "execute_result"
    }
   ],
   "source": [
    "type(data.Ulasan)"
   ]
  },
  {
   "cell_type": "markdown",
   "metadata": {},
   "source": [
    "# Text Preproccessing"
   ]
  },
  {
   "cell_type": "markdown",
   "metadata": {},
   "source": [
    "### Case Folding And Punctuation Removal"
   ]
  },
  {
   "cell_type": "code",
   "execution_count": 11,
   "metadata": {},
   "outputs": [
    {
     "data": {
      "text/plain": [
       "0                     produknya lengkap pokoknya mantap\n",
       "1                       very good bukalapak is the best\n",
       "2                 sangat memuaskan belanja di bukalapak\n",
       "3                            good apps memang bukalapak\n",
       "4                         aplikasi ecommerce recomended\n",
       "                            ...                        \n",
       "56    ada kendala pembelian si pelapak penipu dan sa...\n",
       "57    kenapa saya gak bisa daftar no telepon di apli...\n",
       "58     buka lapak banyak penipu saya rugi besarpihak...\n",
       "59                          aplikasinya eror terooossss\n",
       "60                                      bukalapak jelek\n",
       "Name: Ulasan, Length: 61, dtype: object"
      ]
     },
     "execution_count": 11,
     "metadata": {},
     "output_type": "execute_result"
    }
   ],
   "source": [
    "import re\n",
    "import string\n",
    "\n",
    "#This function converts to lower-case, removes square bracket, removes numbers and punctuation\n",
    "def text_clean_1(text):\n",
    "    #Case Folding\n",
    "    text = text.lower()\n",
    "    #Remove Punctuation\n",
    "    text = re.sub('\\[.*?\\]', '', text)\n",
    "    text = re.sub('[%s]' % re.escape(string.punctuation), '', text)\n",
    "    text = re.sub('\\w*\\d\\w*', '', text)\n",
    "    text = re.sub('[‘’“”…]', '', text)\n",
    "    text = re.sub('\\n', '', text)\n",
    "    return text\n",
    "\n",
    "cleaned1 = lambda x: text_clean_1(x)\n",
    "\n",
    "DataReview = data.Ulasan.apply(cleaned1)\n",
    "DataReview"
   ]
  },
  {
   "cell_type": "markdown",
   "metadata": {},
   "source": [
    "### Tokenization"
   ]
  },
  {
   "cell_type": "code",
   "execution_count": 12,
   "metadata": {},
   "outputs": [
    {
     "name": "stdout",
     "output_type": "stream",
     "text": [
      "[['produknya', 'lengkap', 'pokoknya', 'mantap'], ['very', 'good', 'bukalapak', 'is', 'the', 'best'], ['sangat', 'memuaskan', 'belanja', 'di', 'bukalapak'], ['good', 'apps', 'memang', 'bukalapak'], ['aplikasi', 'ecommerce', 'recomended'], ['saya', 'bisa', 'belanja', 'online', 'diskon'], ['masukan', 'saya', 'pengiriman', 'barang', 'berat', 'tidak', 'sesuai', 'tolong', 'di', 'tinjau', 'kembali', 'pengiriman', 'yang', 'paling', 'terlambat', 'jt', 'expres', 'estimasi', 'hari', 'sampai', 'ke', 'tempat', 'tujuan', 'bisa', 'hari', 'tolong', 'di', 'tinjau', 'kembali', 'pengiriman', 'di', 'atas', 'kg', 'kalau', 'bisa', 'di', 'kirim', 'lewat', 'ekspedisi', 'laut', 'agar', 'terjangkau', 'biaya', 'pengirimannya', 'karena', 'banyak', 'pelanggan', 'yg', 'belanja', 'berat', 'diatas', 'kg', 'sangat', 'mahal', 'harganya', 'dan', 'juga', 'bisa', 'membantu', 'pelanggan', 'pasti', 'lebih', 'maju', 'lagi', 'makasih'], ['alhamdulillah', 'sebelum', 'saya', 'tau', 'aplikasi', 'bl', 'saya', 'ragu', 'untuk', 'melakukan', 'transaksi', 'beli', 'melalui', 'online', 'tapi', 'setelah', 'saya', 'mengetahui', 'bukalapak', 'saya', 'jadi', 'meyakinkan', 'diri', 'untuk', 'melakukan', 'transaksi', 'beli', 'barang', 'melali', 'online', 'tanpa', 'ragu', 'dengan', 'aman', 'dan', 'mudah', 'sampai', 'detik', 'ini', 'masih', 'aman', 'semoga', 'selalu', 'bermanfaat', 'untuk', 'semua', 'penguna', 'aplikasi', 'bukalapak'], ['mencari', 'kebutuhan', 'baik', 'berupa', 'barang', 'maupun', 'jasa', 'lainnya', 'menjadi', 'mudah', 'dengan', 'hadirnya', 'bukalapak', 'secara', 'pribadi', 'sy', 'banyak', 'tertolong', 'dgn', 'fasilitas', 'yg', 'disediakan', 'bl', 'sekalipun', 'masih', 'ada', 'pelapak', 'yg', 'belum', 'konsisten', 'dgn', 'barang', 'lapaknya', 'namun', 'hal', 'ini', 'tentu', 'saja', 'ada', 'terapi', 'atau', 'strategi', 'khusus', 'yg', 'diupayakan', 'bl', 'dlm', 'mengupayakan', 'bisnis', 'online', 'akan', 'tetap', 'mempertahankan', 'prinsip', 'bahwa', 'pembeli', 'adalah', 'raja', 'maju', 'dan', 'sukses', 'selalu', 'bukalapak'], ['belanja', 'di', 'buka', 'lapak', 'sangat', 'mudah', 'dan', 'juga', 'sanhat', 'baik', 'pelayanan', 'nyaterima', 'kasih', 'buka', 'lapak', 'dengan', 'adanya', 'buka', 'lapak', 'belanja', 'pun', 'sangat', 'mudah', 'tidak', 'perlu', 'kita', 'kesana', 'kemari', 'cukup', 'buka', 'android', 'kita', 'tinggal', 'cari', 'deh', 'apa', 'yg', 'kita', 'inginkan', 'di', 'buka', 'lapak', 'semua', 'ada', 'jadi', 'gak', 'usah', 'ragu', 'lagi', 'kita', 'belanja', 'di', 'siniayo', 'buruan', 'install', 'aplikasi', 'nya', 'dan', 'dapatkan', 'kemudahan', 'dalam', 'berbelanja', 'online', 'tanpa', 'menghamburkan', 'uang', 'dan', 'tenaga', 'kita', 'bisa', 'membeli', 'keinginan', 'kita', 'indonesia', 'semakin', 'maju', 'bersama', 'bl'], ['sementara', 'penilaian', 'masih', 'bintang', 'belum', 'ada', 'perbaikan', 'yang', 'signifikan', 'untuk', 'lama', 'nya', 'proses', 'pencairan', 'dana', 'semoga', 'kedepan', 'ada', 'perbaikan', 'mengingat', 'pencairan', 'dana', 'sangat', 'penting', 'untuk', 'pengguna', 'bl', 'terutama', 'seller', 'dimana', 'untuk', 'pengembangan', 'usaha', 'nya', 'sendiri', 'terimakasih', 'bukalapak'], ['mohon', 'untuk', 'kode', 'pembayaran', 'itu', 'jgn', 'besar', 'besar', 'biasanya', 'cuma', 'di', 'tambahin', 'digit', 'angka', 'lah', 'ini', 'sampe', 'digit', 'bayar', 'listrik', 'cashbacknya', 'tapi', 'kode', 'pembayarannya', 'pas', 'sy', 'cek', 'dan', 'blum', 'di', 'kembalikan', 'utk', 'kodenya', 'mau', 'untung', 'malah', 'buntung', 'klo', 'kode', 'pembayarannya', 'tidak', 'di', 'kembalikan', 'namanya', 'penipuan', 'klo', 'sudah', 'di', 'kembalikan', 'akan', 'sy', 'perbaiki', 'bintangnya', 'terimakasih'], ['aplikasi', 'yg', 'sangat', 'membantu', 'saya', 'untuk', 'berbelanja', 'apa', 'saja', 'berkat', 'aplikasi', 'ini', 'saya', 'jadi', 'tidak', 'susah', 'untuk', 'mencari', 'barang', 'yang', 'saya', 'mau', 'yang', 'tadinya', 'tidak', 'ada', 'menjadi', 'ada', 'terima', 'kasih', 'bukalapak'], ['dear', 'bukalapak', 'tolong', 'di', 'perbaiki', 'lg', 'supya', 'aplikasi', 'nya', 'agak', 'lebih', 'ringan', 'saat', 'dibuka', 'nya', 'semenjak', 'di', 'update', 'malah', 'jadi', 'lemot', 'banget', 'mau', 'lihat', 'barang', 'di', 'kranjang', 'aja', 'butuh', 'waktu', 'menit', 'loading', 'nya', 'signal', 'full', 'jaringan', 'tapi', 'aplikasi', 'nya', 'yg', 'lemot', 'tolong', 'sangat', 'ini', 'mengganggu', 'aktivitas', 'jual', 'beli'], ['alhamdulillah', 'terimakasih', 'bukalapak', 'terimakasih', 'sudah', 'mau', 'mendengarkan', 'keluh', 'kesah', 'kami', 'dan', 'memperbaiki', 'hubungan', 'kita', 'yg', 'sempet', 'retak', 'bintang', 'hak', 'kalian', 'juga', 'sudah', 'saya', 'kembalikan', 'sekali', 'lagi', 'terimakasih', 'we', 'love', 'bukalapak'], ['bukalapak', 'selalu', 'menjadi', 'tempat', 'jujugan', 'saya', 'yg', 'utama', 'kalo', 'mau', 'belanja', 'melalui', 'online', 'krn', 'siip', 'mantap', 'aman', 'bnyk', 'promo', 'diskon', 'free', 'ongkir', 'dan', 'cashback', 'juga', 'harga', 'bersaing', 'dan', 'ramah', 'di', 'kantong', 'alias', 'lbh', 'murah', 'drpd', 'online', 'shop', 'laine'], ['saya', 'ingin', 'bukalapak', 'berjaya', 'dan', 'sukses', 'di', 'bidang', 'aplikasi', 'online', 'akan', 'tetapi', 'banyak', 'keluhan', 'dari', 'setiap', 'pengguna', 'aplikasi', 'tentang', 'adanya', 'dana', 'termasuk', 'saya', 'mengeluhkan', 'tentang', 'adanya', 'dana', 'kami', 'setiap', 'pengguna', 'aplikasi', 'ini', 'ingin', 'kembalikan', 'seperti', 'semula', 'tidak', 'ingin', 'saldo', 'nya', 'di', 'tetapkan', 'di', 'dana', 'terkecuali', 'pengguna', 'nya', 'ingin', 'memindahkan', 'saldonya', 'sendiri', 'terimaksih', 'banyak', 'kepada', 'pihak', 'bukalapak', 'telah', 'bekerja', 'sama'], ['admin', 'bukalapak', 'untuk', 'unbind', 'ganti', 'akun', 'dana', 'di', 'bukalapak', 'bagaimana', 'ya', 'saya', 'sudah', 'buka', 'faq', 'untuk', 'ganti', 'nomor', 'lain', 'sesuai', 'akun', 'dana', 'yang', 'aktif', 'namun', 'id', 'dana', 'masih', 'belum', 'terganti', 'mohon', 'untuk', 'ditambahkan', 'menu', 'ganti', 'id', 'dana', 'logout', 'id', 'dana', 'di', 'bukalapak', 'apps', 'terimakasih', 'user', 'bukalapak'], ['mohon', 'bantuan', 'bagaimana', 'cara', 'menghapus', 'riwayat', 'transaksi', 'yang', 'ada', 'di', 'aplikasi', 'bukalapak', 'karena', 'terlalu', 'banyak', 'jadi', 'yang', 'sudah', 'ada', 'transaksi', 'nya', 'jadi', 'tambah', 'banyak', 'mohon', 'bantuannya', 'agar', 'user', 'dapat', 'menghapus', 'sendiri', 'riwayat', 'transaksi', 'seperti', 'di', 'email', 'terima', 'kasih'], ['ok', 'mantap', 'tapi', 'soal', 'harga', 'sangat', 'sensitif', 'kalau', 'bisa', 'harga', 'tidak', 'tercantum', 'untuk', 'ke', 'depannya', 'harga', 'lebih', 'baik', 'akan', 'di', 'ketahui', 'setelah', 'buyer', 'menanyakan', 'langsung', 'kepada', 'seller', 'saya', 'masih', 'pertimbangkan', 'kalau', 'buka', 'toko', 'di', 'bl', 'harga', 'habishabisan', 'saya', 'gak', 'bisa', 'bersaing', 'secara', 'maksimal', 'selebihnya', 'mantap'], ['sudah', 'bagus', 'sih', 'jualan', 'juga', 'gampang', 'fiturnya', 'jg', 'mempermudah', 'pelapak', 'opsi', 'pengiriman', 'jg', 'banyak', 'dibanding', 'marketplace', 'lain', 'cuma', 'tolong', 'dong', 'bl', 'ada', 'live', 'chat', 'nya', 'jadi', 'kalau', 'complain', 'langsung', 'bisa', 'dijawab', 'ga', 'harus', 'email', 'dlu', 'isi', 'form', 'trus', 'tunggu', 'balesan', 'yg', 'slow', 'respone', 'karna', 'kalau', 'ada', 'masalah', 'urgent', 'jd', 'cpt', 'diatasi', 'oiya', 'sama', 'agak', 'lemot', 'sih', 'kalau', 'buka', 'aplikasi', 'suka', 'sering', 'eror', 'apalagi', 'mau', 'upload', 'produk', 'susah', 'dan', 'kalau', 'bisa', 'pencairan', 'dana', 'ke', 'transfer', 'kita', 'dipercepat', 'dong', 'thx'], ['enak', 'versi', 'yg', 'sebelum', 'nya', 'setelah', 'di', 'up', 'date', 'ke', 'versi', 'baru', 'malah', 'tampilan', 'di', 'flash', 'deal', 'tampilan', 'awal', 'tdk', 'muncul', 'lokasi', 'pelapak', 'nya', 'harus', 'di', 'buka', 'klo', 'versi', 'lama', 'di', 'flash', 'deal', 'tampilan', 'awal', 'sdh', 'dapat', 'ketahui', 'lokasi', 'pelapak', 'nya', 'tak', 'tambah', 'bintang', 'lg', 'jd', 'ntar', 'kalo', 'di', 'respon', 'dgn', 'berubahnya', 'kembali', 'mudah', 'seperti', 'sblm', 'nya', 'akan', 'jd', 'bintang'], ['tingkatkan', 'lagi', 'bukalapak', 'versi', 'menemukan', 'bug', 'yaitu', 'tentang', 'error', 'pada', 'saat', 'mau', 'menyimpan', 'gambar', 'di', 'app', 'blnya', 'om', 'zaky', 'cuman', 'koreksi', 'sedikit', 'si'], ['respon', 'cepat', 'barang', 'terjamin', 'banyak', 'pilihan'], ['teruslah', 'menjadi', 'fokus', 'utama', 'kepada', 'pelanggan'], ['bukalapak', 'mantap', 'jiwa', 'berbelanja', 'kini', 'di', 'mudahkan', 'berkat', 'berjualan', 'di', 'bukalapak', 'kini', 'penghasilan', 'bersih', 'ku', 'perbulan', 'trimakasih', 'bukalapak'], ['on', 'time'], ['ok', 'toko', 'online', 'yg', 'verifikasi', 'pembayarannya', 'cepet'], ['bagus', 'sangat', 'membantu', 'para', 'ukm', 'terimakasih', 'bukalapak'], ['ini', 'sangat', 'memudahkan', 'untuk', 'mencari', 'kebutuhan', 'kita'], ['buka', 'lapak', 'yang', 'saya', 'hormati', 'saya', 'putus', 'aja', 'ikut', 'serbaserbu', 'dari', 'tahun', 'setiap', 'hari', 'saya', 'ikut', 'dan', 'setiap', 'kali', 'saya', 'selalu', 'beli', 'semua', 'produk', 'nya', 'yang', 'ditawakan', 'sampai', 'detik', 'ini', 'satu', 'produkpun', 'tidak', 'ada', 'yang', 'saya', 'dapatkan', 'bayangkan', 'semua', 'produk', 'yang', 'sudah', 'saya', 'beli', 'dalam', 'serbaserbu', 'setiap', 'hari', 'tapi', 'tidak', 'pernah', 'dapat', 'satupun', 'kemudian', 'saya', 'selalu', 'mencoba', 'ikut', 'tepat', 'waktu', 'detik', 'setelah', 'mulai', 'sudah', 'berhasil', 'tapi', 'gagal', 'dapat', 'juga', 'semoga', 'ada', 'yang', 'real', 'dapat', 'komen', 'yang', 'pernah', 'real', 'dapat'], ['setelah', 'update', 'saya', 'turun', 'rating', 'karena', 'beberapa', 'hal', 'ini', 'list', 'data', 'barang', 'di', 'buka', 'mall', 'tidak', 'bisa', 'tampil', 'menu', 'langsung', 'force', 'close', 'beberapa', 'menu', 'untuk', 'transaksi', 'barang', 'selalu', 'muncul', 'notif', 'anda', 'diharapkan', 'login', 'dulu', 'padahal', 'tidak', 'pernah', 'logout', 'dr', 'aplikasi', 'khawatir', 'akun', 'kena', 'hack', 'juga', 'ini', 'la', 'terus', 'bagaimana'], ['beli', 'quota', 'ga', 'njiir', 'padahal', 'udh', 'sampai', 'proses', 'dibayar', 'mau', 'kompalin', 'ga', 'ke', 'customer', 'service', 'nya', 'padahal', 'udh', 'ss', 'udh', 'ada', 'bukti', 'bayar', 'dll', 'ttp', 'ga', 'bsa', 'trus', 'buat', 'apa', 'ada', 'form', 'buat', 'kompalin', 'klo', 'mw', 'kirim', 'kompalin', 'ga', 'kan', 'tolol', 'belum', 'lagi', 'aplikasi', 'dana', 'nya', 'ga', 'update', 'lemot', 'sering', 'lambat', 'kalau', 'pembayaran', 'sungguh', 'mengecewakanbelum', 'lagi', 'aplikasi', 'dana', 'nya'], ['halo', 'team', 'bukalapak', 'tolonglah', 'sayakenapa', 'saya', 'tidak', 'bisa', 'edit', 'produktidak', 'bisa', 'edit', 'variantsetiap', 'mau', 'edit', 'dan', 'upload', 'selalu', 'gagalmentaldan', 'hp', 'jadi', 'ngehanksinyal', 'stabil', 'telkomsel', 'sudah', 'clearcache', 'juga', 'ini', 'anehnya', 'hanya', 'terjadi', 'pada', 'lapak', 'dagangan', 'samsung', 'galaxy', 'edge', 'garansi', 'resmi', 'sein', 'saya', 'sajasedangkan', 'di', 'lapak', 'produk', 'saya', 'yang', 'lain', 'saja', 'semua', 'normalsaya', 'sudah', 'telpon', 'ke', 'costumer', 'care', 'dan', 'lapor', 'ke', 'bukabantuan', 'masih', 'belum', 'solvedsudah', 'saya', 'isi', 'formnyamsh', 'blm', 'solved'], ['kalau', 'bukalapak', 'tidak', 'segera', 'berbenah', 'tidak', 'lama', 'lagii', 'pasti', 'akan', 'ditinggalkan', 'pelapaknyadan', 'customernya', 'secara', 'bertahap', 'terus', 'terang', 'saya', 'akan', 'memindahkan', 'lapak', 'saya', 'ke', 'marketplace', 'lain', 'yang', 'lbh', 'nyaman', 'dalam', 'bertransaksi', 'sebagai', 'pelapak', 'setelah', 'sekian', 'lama', 'dikecewakan', 'dengan', 'pelayanan', 'admin', 'bl', 'yang', 'sangat', 'arogan', 'sedangkan', 'kerja', 'team', 'bukalapak', 'sendrii', 'tidak', 'mau', 'introspeksi', 'hari', 'ini', 'merupakan', 'puncak', 'kekecewaan', 'saya', 'mulai', 'malam', 'ini', 'prepare', 'bye', 'bye', 'dengan', 'bukalapak'], ['hi', 'admin', 'tadi', 'saya', 'topup', 'saldo', 'saya', 'pilih', 'pembayaran', 'via', 'bri', 'briva', 'saat', 'saya', 'mau', 'melakukan', 'tranfer', 'via', 'bri', 'ternyata', 'lagi', 'ada', 'gangguan', 'jadi', 'saya', 'ubah', 'metode', 'pembayaran', 'dari', 'bri', 'ke', 'bca', 'ternyata', 'yang', 'saya', 'tranfer', 'melalui', 'bri', 'sudah', 'terkirim', 'tapi', 'metode', 'pembayaran', 'terlanjur', 'sudah', 'saya', 'ubah', 'menjadi', 'bca', 'jadi', 'sampe', 'sekarang', 'belum', 'ada', 'masuk', 'ke', 'akun', 'dana', 'bl', 'saya'], ['saya', 'sangaaat', 'kecewa', 'dengan', 'bukalapak', 'pertama', 'saya', 'jual', 'barang', 'lalu', 'penerima', 'sudah', 'konfirmasi', 'tapi', 'uang', 'tdk', 'langsung', 'masuk', 'ke', 'bukadompet', 'dan', 'harus', 'dikomplain', 'dulu', 'baru', 'masuk', 'kedua', 'bukadompet', 'saya', 'dibekukan', 'tanpa', 'ada', 'pemberitahuan', 'apapun', 'saya', 'tdk', 'mengerti', 'salah', 'saya', 'apa', 'padahal', 'saya', 'mau', 'cairkan', 'uang', 'itu', 'karna', 'sangat', 'butuh', 'sekali', 'uangnya', 'ketiga', 'saya', 'komplain', 'di', 'bukabantuan', 'mengenai', 'bukadompet', 'dibekukan', 'tapi', 'tidak', 'ada', 'satupun', 'respon', 'dari', 'bukalapak', 'tolong', 'segera', 'ditinjau'], ['nah', 'gini', 'dong', 'min', 'kan', 'enak', 'orang', 'yg', 'ikut', 'serbu', 'seru', 'juga', 'ga', 'pada', 'kesel', 'kalo', 'dananya', 'dikembalikan', 'dalam', 'bntuk', 'saldo', 'buka', 'dompet', 'jgn', 'di', 'kembalikan', 'dengan', 'bentuk', 'barang', 'yg', 'belum', 'tentu', 'semua', 'orang', 'suka', 'ya', 'sekalipun', 'di', 'ganti', 'barang', 'setidaknya', 'para', 'penyerbu', 'punya', 'hak', 'untuk', 'membatalkan', 'barang', 'pengganti', 'saat', 'serbuanya', 'meleset', 'jgn', 'kaya', 'kemarin', 'dicancel', 'malah', 'di', 'tolak', 'sama', 'lapak'], ['saya', 'sangat', 'kecewa', 'dengan', 'tanggung', 'jawab', 'bukalapak', 'saya', 'di', 'tipu', 'pelapak', 'rupiah', 'dan', 'itu', 'saya', 'tidak', 'tau', 'kalo', 'akum', 'di', 'hack', 'saya', 'minta', 'pertanggung', 'jawaban', 'bukalapak', 'atas', 'apa', 'yg', 'terjadi', 'saya', 'sudah', 'lapor', 'ke', 'cs', 'dan', 'akun', 'resmi', 'di', 'bukalapak', 'respon', 'nya', 'sangat', 'tida', 'jelas', 'dan', 'lelet', 'akun', 'di', 'bukalapak', 'penipu', 'pun', 'masih', 'aktif', 'apa', 'tanggung', 'jawab', 'bl', 'jika', 'pembeli', 'terkena', 'tipu', 'di', 'bl', 'apa', 'ini', 'semua', 'salah', 'dari', 'pembeli', 'apa', 'semua', 'penjual', 'di', 'bl', 'itu', 'seperti', 'si', 'penipusaya', 'sangat', 'kapok', 'berbelanja', 'di', 'bl'], ['min', 'apl', 'error', 'tuh', 'dah', 'log', 'in', 'dari', 'tahun', 'lalu', 'juga', 'masih', 'disuruh', 'log', 'in', 'untuk', 'lihat', 'transaksi', 'kode', 'pembayaran', 'benahin', 'lah', 'masak', 'sampe', 'digit', 'top', 'up', 'dana', 'kode', 'pembacayaran', 'sampe', 'belanja', 'kode', 'sampe', 'makin', 'ngaco', 'ini', 'dah', 'email', 'bl', 'dah', 'ditutup', 'lagi', 'ada', 'kendala', 'suruh', 'keforum', 'katanya', 'biar', 'jadi', 'pengguna', 'yang', 'cerdas', 'saya', 'mau', 'laporan', 'min', 'bukan', 'ngrumpi'], ['saya', 'tidak', 'melakukan', 'transaksi', 'di', 'bukamart', 'saldo', 'buka', 'dompet', 'saya', 'malah', 'terpotong', 'karena', 'ada', 'notif', 'transaksi', 'sedang', 'di', 'proses', 'saya', 'minta', 'untuk', 'dibatalkankarena', 'saya', 'merasa', 'tidak', 'melakukan', 'transaksi', 'sama', 'sekali', 'di', 'bukamart', 'malah', 'ditolak', 'dengan', 'alasan', 'barang', 'sudah', 'dikirim', 'mohon', 'penjelasannya'], ['banyak', 'disini', 'pelapak', 'sifat', 'nya', 'menipu', 'dengan', 'alasan', 'gambar', 'postingan', 'pelapak', 'menggiurkan', 'perbelanja', 'setelah', 'melakukan', 'transaksi', 'si', 'konsumen', 'kecewa', 'dengan', 'barang', 'yang', 'di', 'terima', 'tidak', 'sesuai', 'yg', 'di', 'posting', 'terhadap', 'pelapak', 'konsumen', 'sangat', 'di', 'rugikan', 'apa', 'bila', 'barang', 'di', 'kembali', 'kn', 'di', 'kenakan', 'biaya', 'ongkos', 'kirim', 'lagi', 'disini', 'pihak', 'buka', 'lapak', 'harus', 'lebih', 'jeli', 'lagi', 'merekrut', 'pelapakpelapak', 'yg', 'berdagang', 'di', 'situs', 'ini', 'harap', 'di', 'saring', 'pelapak', 'yg', 'tidak', 'jelas'], ['ikut', 'serbu', 'emas', 'tapi', 'uang', 'bukannya', 'di', 'kembalikan', 'ke', 'buka', 'dompet', 'malah', 'ke', 'buka', 'emasgak', 'semua', 'orang', 'mau', 'apalagi', 'ikhlas', 'loh', 'duitnya', 'ilang', 'gitu', 'aja', 'harusnya', 'ada', 'konfirmasi', 'antara', 'mau', 'di', 'kembalikan', 'ke', 'buka', 'dompet', 'atau', 'buka', 'emasbiar', 'gak', 'terkesan', 'maksa', 'yang', 'sama', 'artinya', 'gak', 'berkah', 'nyimpen', 'duit', 'orangmeski', 'cuma', 'kalau', 'di', 'kali', 'jutaan', 'orang', 'yang', 'ikut', 'serbu', 'emas', 'akan', 'berapa', 'banyak', 'uang', 'yg', 'bukalapak', 'ambil', 'tanpa', 'keikhlasan', 'dari', 'pemilik', 'uangnya'], ['beli', 'celana', 'sudah', 'saya', 'bayar', 'kenapa', 'tidak', 'bisa', 'terkonfirmasi', 'otomatis', 'padahal', 'saya', 'transfer', 'sama', 'sampai', 'digit', 'angka', 'terakhir', 'sudah', 'upload', 'bukti', 'pembayaran', 'pula', 'lagi', 'lama', 'lama', 'payah', 'bukalapak', 'dulu', 'pernah', 'beli', 'pulsa', 'tapi', 'memang', 'saya', 'lupa', 'transfer', 'gak', 'sampai', 'digit', 'angka', 'terakhir', 'tpi', 'pihak', 'buka', 'lapak', 'saya', 'email', 'gak', 'ada', 'balasan'], ['bnyk', 'penipuan', 'di', 'aplikasi', 'iniharap', 'hati'], ['saya', 'kecewa', 'dengan', 'bukalapak'], ['tolong', 'konfirmasi', 'pembayaran', 'di', 'buka', 'lapak', 'diperbaiki', 'saya', 'sudah', 'melakukan', 'pembayaran', 'dan', 'berhasil', 'uang', 'saya', 'sudah', 'masuk', 'le', 'rekening', 'bri', 'pihak', 'buka', 'lapak', 'namun', 'tidak', 'ada', 'konfirmasi', 'sampai', 'pembayaran', 'kadaluarsa', 'dan', 'tidak', 'ada', 'pengembalian', 'bagaimana', 'kelanjutannya', 'dari', 'buka', 'lapak'], ['dapet', 'gratis', 'ongkir', 'tapi', 'ongkir', 'tinggi', 'katanya', 'voucher', 'tapi', 'pas', 'dipake', 'kuota', 'voucher', 'hari', 'ini', 'telah', 'habis', 'maksudnya', 'apa', 'coba'], ['tolong', 'buka', 'dompet', 'saya', 'yang', 'dibekukan', 'diaktifkan', 'lagisaya', 'ini', 'pembeli', 'bukan', 'penjual'], ['gila', 'bukalapak', 'eror', 'terus'], ['banyak', 'akun', 'palsu'], ['sampai', 'hari', 'ini', 'gak', 'ada', 'tanggapan', 'bagaimana', 'tindha', 'lanjut', 'dari', 'voucher', 'yang', 'tidak', 'bisa', 'dipakai', 'saat', 'saya', 'isi', 'pulsa', 'minta', 'dikirim', 'bukti', 'pembayaran', 'sudah', 'saya', 'kirim', 'tapi', 'tak', 'ada', 'tanggapan', 'sama', 'skali', 'sampai', 'skarang', 'sungguh', 'mengecewaka'], ['lebih', 'dari', 'barang', 'tidak', 'bergerak', 'sama', 'sekali', 'giliran', 'buka', 'fitur', 'bukabantuan', 'csnya', 'cuma', 'nampilin', 'status', 'barang', 'yang', 'sebenarnya', 'yang', 'punya', 'resipun', 'juga', 'bisa', 'cek', 'dan', 'mengarahkan', 'ke', 'ekspedisi'], ['aplikasi', 'apaan', 'ini', 'error', 'mulu', 'bikin', 'kesel', 'ram', 'gua', 'udh', 'masa', 'eror', 'mulu', 'udh', 'update', 'tetep', 'sama'], ['sekarang', 'saya', 'tiap', 'belanja', 'tidak', 'bisa', 'memasukan', 'kode', 'voucher'], ['aplikasi', 'buka', 'maling', 'ni', 'jangan', 'di', 'download', 'ntr', 'nyesel', 'saya', 'ngisi', 'pulsa', 'tidak', 'masuk', 'dan', 'uang', 'tidak', 'kembali'], ['ada', 'kendala', 'pembelian', 'si', 'pelapak', 'penipu', 'dan', 'saya', 'membatalkan', 'pembelian', 'itu', 'uang', 'kapan', 'kembali', 'sudah', 'hari', 'jawaban', 'cs', 'hanya', 'itu', 'aja', 'malah', 'kaya', 'gw', 'yang', 'ngemis', 'minta', 'uang', 'gw', 'kembali', 'itu', 'manusia', 'apa', 'jin', 'parah', 'amat', 'kelakuan'], ['kenapa', 'saya', 'gak', 'bisa', 'daftar', 'no', 'telepon', 'di', 'aplikasi', 'ini', 'sehingga', 'tidak', 'dapat', 'kode', 'verifikasi', 'nya'], ['buka', 'lapak', 'banyak', 'penipu', 'saya', 'rugi', 'besarpihak', 'buka', 'lapak', 'ga', 'bertanggung', 'jawabbaru', 'aplikasi', 'kaya', 'gini', 'pihak', 'buka', 'lapak', 'ga', 'bertanggung', 'jawab'], ['aplikasinya', 'eror', 'terooossss'], ['bukalapak', 'jelek']]\n"
     ]
    }
   ],
   "source": [
    "#Tokenization\n",
    "from nltk.tokenize import word_tokenize\n",
    "\n",
    "def text_token(text):\n",
    "    text = [word_tokenize(doc) for doc in text]\n",
    "    return text\n",
    "\n",
    "tokenizing = lambda x: text_token(x)\n",
    "\n",
    "tokenized_docs = tokenizing(DataReview)\n",
    "\n",
    "print(tokenized_docs)"
   ]
  },
  {
   "cell_type": "markdown",
   "metadata": {},
   "source": [
    "### Stopword Removal"
   ]
  },
  {
   "cell_type": "code",
   "execution_count": 3,
   "metadata": {},
   "outputs": [
    {
     "ename": "AttributeError",
     "evalue": "'StopWordRemoverFactory' object has no attribute 'create_stemmer'",
     "output_type": "error",
     "traceback": [
      "\u001b[1;31m---------------------------------------------------------------------------\u001b[0m",
      "\u001b[1;31mAttributeError\u001b[0m                            Traceback (most recent call last)",
      "\u001b[1;32m<ipython-input-3-40bed0cd2969>\u001b[0m in \u001b[0;36m<module>\u001b[1;34m\u001b[0m\n\u001b[0;32m      9\u001b[0m \u001b[0mkalimat\u001b[0m \u001b[1;33m=\u001b[0m \u001b[1;34m'Partai politik indonesia berburu suara'\u001b[0m\u001b[1;33m\u001b[0m\u001b[1;33m\u001b[0m\u001b[0m\n\u001b[0;32m     10\u001b[0m \u001b[0mstop\u001b[0m \u001b[1;33m=\u001b[0m \u001b[0mstopwords\u001b[0m\u001b[1;33m.\u001b[0m\u001b[0mremove\u001b[0m\u001b[1;33m(\u001b[0m\u001b[0mkalimat\u001b[0m\u001b[1;33m)\u001b[0m\u001b[1;33m\u001b[0m\u001b[1;33m\u001b[0m\u001b[0m\n\u001b[1;32m---> 11\u001b[1;33m \u001b[0mstemmer\u001b[0m \u001b[1;33m=\u001b[0m \u001b[0mfactory\u001b[0m\u001b[1;33m.\u001b[0m\u001b[0mcreate_stemmer\u001b[0m\u001b[1;33m(\u001b[0m\u001b[1;33m)\u001b[0m\u001b[1;33m\u001b[0m\u001b[1;33m\u001b[0m\u001b[0m\n\u001b[0m\u001b[0;32m     12\u001b[0m \u001b[0mprint\u001b[0m\u001b[1;33m(\u001b[0m\u001b[0mstemmer\u001b[0m\u001b[1;33m.\u001b[0m\u001b[0mstem\u001b[0m\u001b[1;33m(\u001b[0m\u001b[1;34m'berburu'\u001b[0m\u001b[1;33m)\u001b[0m\u001b[1;33m)\u001b[0m\u001b[1;33m\u001b[0m\u001b[1;33m\u001b[0m\u001b[0m\n\u001b[0;32m     13\u001b[0m \u001b[1;31m# print(getstopwords)\u001b[0m\u001b[1;33m\u001b[0m\u001b[1;33m\u001b[0m\u001b[1;33m\u001b[0m\u001b[0m\n",
      "\u001b[1;31mAttributeError\u001b[0m: 'StopWordRemoverFactory' object has no attribute 'create_stemmer'"
     ]
    }
   ],
   "source": [
    "#Removing Stopword\n",
    "from Sastrawi.StopWordRemover.StopWordRemoverFactory import StopWordRemoverFactory\n",
    "\n",
    "factory = StopWordRemoverFactory() \n",
    "stopwords = factory.create_stop_word_remover()\n",
    "getstopwords = factory.get_stop_words()\n",
    "\n",
    "# Kalimat Contoh\n",
    "kalimat = 'Dengan Menggunakan Python dan Library Sastrawi saya dapat melakukan proses Stopword Removal'\n",
    "stop = stopwords.remove(kalimat)\n",
    "# print(stop)\n",
    "# print(getstopwords)\n",
    "\n",
    "# Mulai\n",
    "tokenized_docs_no_stopwords = []\n",
    "\n",
    "for doc in tokenized_docs:\n",
    "    new_term_vector = []\n",
    "    for word in doc:\n",
    "        if not word in getstopwords:\n",
    "            new_term_vector.append(word)\n",
    "    \n",
    "    tokenized_docs_no_stopwords.append(new_term_vector)\n",
    "    \n",
    "print(tokenized_docs_no_stopwords)\n",
    "    \n"
   ]
  },
  {
   "cell_type": "markdown",
   "metadata": {},
   "source": [
    "### Stemming"
   ]
  },
  {
   "cell_type": "code",
   "execution_count": 6,
   "metadata": {},
   "outputs": [
    {
     "data": {
      "text/plain": [
       "'makin'"
      ]
     },
     "execution_count": 6,
     "metadata": {},
     "output_type": "execute_result"
    }
   ],
   "source": [
    "from Sastrawi.Stemmer.StemmerFactory import StemmerFactory\n",
    "\n",
    "# create stemmer\n",
    "factory = StemmerFactory()\n",
    "stemmer = factory.create_stemmer()"
   ]
  },
  {
   "cell_type": "code",
   "execution_count": 15,
   "metadata": {},
   "outputs": [
    {
     "name": "stdout",
     "output_type": "stream",
     "text": [
      "[['produk', 'lengkap', 'pokok', 'mantap'], ['very', 'good', 'bukalapak', 'is', 'the', 'best'], ['sangat', 'muas', 'belanja', 'bukalapak'], ['good', 'apps', 'memang', 'bukalapak'], ['aplikasi', 'ecommerce', 'recomended'], ['belanja', 'online', 'diskon'], ['masuk', 'kirim', 'barang', 'berat', 'sesuai', 'tinjau', 'kirim', 'paling', 'lambat', 'jt', 'expres', 'estimasi', 'hari', 'tempat', 'tuju', 'hari', 'tinjau', 'kirim', 'atas', 'kg', 'kalau', 'kirim', 'lewat', 'ekspedisi', 'laut', 'jangkau', 'biaya', 'kirim', 'banyak', 'langgan', 'yg', 'belanja', 'berat', 'atas', 'kg', 'sangat', 'mahal', 'harga', 'bantu', 'langgan', 'lebih', 'maju', 'makasih'], ['alhamdulillah', 'tau', 'aplikasi', 'bl', 'ragu', 'laku', 'transaksi', 'beli', 'lalu', 'online', 'tahu', 'bukalapak', 'jadi', 'yakin', 'diri', 'laku', 'transaksi', 'beli', 'barang', 'lali', 'online', 'ragu', 'aman', 'mudah', 'detik', 'aman', 'moga', 'selalu', 'manfaat', 'semua', 'penguna', 'aplikasi', 'bukalapak'], ['cari', 'butuh', 'baik', 'upa', 'barang', 'maupun', 'jasa', 'lain', 'jadi', 'mudah', 'hadir', 'bukalapak', 'pribadi', 'sy', 'banyak', 'tolong', 'dgn', 'fasilitas', 'yg', 'sedia', 'bl', 'sekalipun', 'lapak', 'yg', 'konsisten', 'dgn', 'barang', 'lapak', 'terapi', 'strategi', 'khusus', 'yg', 'upaya', 'bl', 'dlm', 'upaya', 'bisnis', 'online', 'tetap', 'tahan', 'prinsip', 'beli', 'raja', 'maju', 'sukses', 'selalu', 'bukalapak'], ['belanja', 'buka', 'lapak', 'sangat', 'mudah', 'sanhat', 'baik', 'layan', 'nyaterima', 'kasih', 'buka', 'lapak', 'ada', 'buka', 'lapak', 'belanja', 'sangat', 'mudah', 'perlu', 'kesana', 'kemari', 'cukup', 'buka', 'android', 'tinggal', 'cari', 'deh', 'apa', 'yg', 'ingin', 'buka', 'lapak', 'semua', 'jadi', 'gak', 'usah', 'ragu', 'belanja', 'siniayo', 'buru', 'install', 'aplikasi', 'nya', 'dapat', 'mudah', 'belanja', 'online', 'hambur', 'uang', 'tenaga', 'beli', 'ingin', 'indonesia', 'makin', 'maju', 'sama', 'bl'], ['nilai', 'bintang', 'baik', 'signifikan', 'lama', 'nya', 'proses', 'cair', 'dana', 'moga', 'depan', 'baik', 'ingat', 'cair', 'dana', 'sangat', 'penting', 'guna', 'bl', 'utama', 'seller', 'kembang', 'usaha', 'nya', 'sendiri', 'terimakasih', 'bukalapak'], ['mohon', 'kode', 'bayar', 'jgn', 'besar', 'besar', 'biasa', 'cuma', 'tambahin', 'digit', 'angka', 'lah', 'sampe', 'digit', 'bayar', 'listrik', 'cashbacknya', 'kode', 'bayar', 'pas', 'sy', 'cek', 'blum', 'kembali', 'utk', 'kode', 'mau', 'untung', 'malah', 'buntung', 'klo', 'kode', 'bayar', 'kembali', 'nama', 'tipu', 'klo', 'kembali', 'sy', 'baik', 'bintang', 'terimakasih'], ['aplikasi', 'yg', 'sangat', 'bantu', 'belanja', 'apa', 'berkat', 'aplikasi', 'jadi', 'susah', 'cari', 'barang', 'mau', 'tadi', 'jadi', 'terima', 'kasih', 'bukalapak'], ['dear', 'bukalapak', 'baik', 'lg', 'supya', 'aplikasi', 'nya', 'lebih', 'ringan', 'buka', 'nya', 'semenjak', 'update', 'malah', 'jadi', 'lot', 'banget', 'mau', 'lihat', 'barang', 'kranjang', 'aja', 'butuh', 'waktu', 'menit', 'loading', 'nya', 'signal', 'full', 'jaring', 'aplikasi', 'nya', 'yg', 'lot', 'sangat', 'ganggu', 'aktivitas', 'jual', 'beli'], ['alhamdulillah', 'terimakasih', 'bukalapak', 'terimakasih', 'mau', 'dengar', 'keluh', 'kesah', 'baik', 'hubung', 'yg', 'sempet', 'retak', 'bintang', 'hak', 'kalian', 'kembali', 'sekali', 'terimakasih', 'we', 'love', 'bukalapak'], ['bukalapak', 'selalu', 'jadi', 'tempat', 'jujugan', 'yg', 'utama', 'kalo', 'mau', 'belanja', 'lalu', 'online', 'krn', 'siip', 'mantap', 'aman', 'bnyk', 'promo', 'diskon', 'free', 'ongkir', 'cashback', 'harga', 'saing', 'ramah', 'kantong', 'alias', 'lbh', 'murah', 'drpd', 'online', 'shop', 'laine'], ['bukalapak', 'jaya', 'sukses', 'bidang', 'aplikasi', 'online', 'banyak', 'keluh', 'guna', 'aplikasi', 'ada', 'dana', 'masuk', 'keluh', 'ada', 'dana', 'guna', 'aplikasi', 'kembali', 'mula', 'saldo', 'nya', 'tetap', 'dana', 'kecuali', 'guna', 'nya', 'pindah', 'saldo', 'sendiri', 'terimaksih', 'banyak', 'pihak', 'bukalapak', 'kerja', 'sama'], ['admin', 'bukalapak', 'unbind', 'ganti', 'akun', 'dana', 'bukalapak', 'bagaimana', 'buka', 'faq', 'ganti', 'nomor', 'sesuai', 'akun', 'dana', 'aktif', 'id', 'dana', 'ganti', 'mohon', 'tambah', 'menu', 'ganti', 'id', 'dana', 'logout', 'id', 'dana', 'bukalapak', 'apps', 'terimakasih', 'user', 'bukalapak'], ['mohon', 'bantu', 'bagaimana', 'cara', 'hapus', 'riwayat', 'transaksi', 'aplikasi', 'bukalapak', 'terlalu', 'banyak', 'jadi', 'transaksi', 'nya', 'jadi', 'tambah', 'banyak', 'mohon', 'bantu', 'user', 'hapus', 'sendiri', 'riwayat', 'transaksi', 'email', 'terima', 'kasih'], ['mantap', 'soal', 'harga', 'sangat', 'sensitif', 'kalau', 'harga', 'cantum', 'depan', 'harga', 'lebih', 'baik', 'tahu', 'buyer', 'tanya', 'langsung', 'seller', 'timbang', 'kalau', 'buka', 'toko', 'bl', 'harga', 'habishabisan', 'gak', 'saing', 'maksimal', 'lebih', 'mantap'], ['bagus', 'sih', 'jual', 'gampang', 'fiturnya', 'jg', 'mudah', 'lapak', 'opsi', 'kirim', 'jg', 'banyak', 'banding', 'marketplace', 'cuma', 'dong', 'bl', 'live', 'chat', 'nya', 'jadi', 'kalau', 'complain', 'langsung', 'jawab', 'ga', 'email', 'dlu', 'isi', 'form', 'trus', 'tunggu', 'balesan', 'yg', 'slow', 'respone', 'karna', 'kalau', 'masalah', 'urgent', 'jd', 'cpt', 'atas', 'oiya', 'sama', 'lot', 'sih', 'kalau', 'buka', 'aplikasi', 'suka', 'sering', 'eror', 'mau', 'upload', 'produk', 'susah', 'kalau', 'cair', 'dana', 'transfer', 'cepat', 'dong', 'thx'], ['enak', 'versi', 'yg', 'nya', 'up', 'date', 'versi', 'baru', 'malah', 'tampil', 'flash', 'deal', 'tampil', 'awal', 'tdk', 'muncul', 'lokasi', 'lapak', 'nya', 'buka', 'klo', 'versi', 'lama', 'flash', 'deal', 'tampil', 'awal', 'sdh', 'tahu', 'lokasi', 'lapak', 'nya', 'tak', 'tambah', 'bintang', 'lg', 'jd', 'ntar', 'kalo', 'respon', 'dgn', 'ubah', 'mudah', 'sblm', 'nya', 'jd', 'bintang'], ['tingkat', 'bukalapak', 'versi', 'temu', 'bug', 'error', 'mau', 'simpan', 'gambar', 'app', 'blnya', 'om', 'zaky', 'cuman', 'koreksi', 'sedikit', 'si'], ['respon', 'cepat', 'barang', 'jamin', 'banyak', 'pilih'], ['terus', 'jadi', 'fokus', 'utama', 'langgan'], ['bukalapak', 'mantap', 'jiwa', 'belanja', 'kini', 'mudah', 'berkat', 'jual', 'bukalapak', 'kini', 'hasil', 'bersih', 'ku', 'bulan', 'trimakasih', 'bukalapak'], ['on', 'time'], ['toko', 'online', 'yg', 'verifikasi', 'bayar', 'cepet'], ['bagus', 'sangat', 'bantu', 'ukm', 'terimakasih', 'bukalapak'], ['sangat', 'mudah', 'cari', 'butuh'], ['buka', 'lapak', 'hormat', 'putus', 'aja', 'ikut', 'serbaserbu', 'tahun', 'hari', 'ikut', 'kali', 'selalu', 'beli', 'semua', 'produk', 'nya', 'tawa', 'detik', 'satu', 'produk', 'dapat', 'bayang', 'semua', 'produk', 'beli', 'serbaserbu', 'hari', 'pernah', 'satu', 'kemudian', 'selalu', 'coba', 'ikut', 'tepat', 'waktu', 'detik', 'mulai', 'hasil', 'gagal', 'moga', 'real', 'komen', 'pernah', 'real'], ['update', 'turun', 'rating', 'beberapa', 'list', 'data', 'barang', 'buka', 'mall', 'tampil', 'menu', 'langsung', 'force', 'close', 'beberapa', 'menu', 'transaksi', 'barang', 'selalu', 'muncul', 'notif', 'harap', 'login', 'dulu', 'padahal', 'pernah', 'logout', 'dr', 'aplikasi', 'khawatir', 'akun', 'kena', 'hack', 'la', 'terus', 'bagaimana'], ['beli', 'quota', 'ga', 'njiir', 'padahal', 'udh', 'proses', 'bayar', 'mau', 'kompalin', 'ga', 'customer', 'service', 'nya', 'padahal', 'udh', 'ss', 'udh', 'bukti', 'bayar', 'ttp', 'ga', 'bsa', 'trus', 'buat', 'apa', 'form', 'buat', 'kompalin', 'klo', 'mw', 'kirim', 'kompalin', 'ga', 'kan', 'tolol', 'aplikasi', 'dana', 'nya', 'ga', 'update', 'lot', 'sering', 'lambat', 'kalau', 'bayar', 'sungguh', 'mengecewakanbelum', 'aplikasi', 'dana', 'nya'], ['halo', 'team', 'bukalapak', 'tolong', 'sayakenapa', 'edit', 'produktidak', 'edit', 'variantsetiap', 'mau', 'edit', 'upload', 'selalu', 'gagalmentaldan', 'hp', 'jadi', 'ngehanksinyal', 'stabil', 'telkomsel', 'clearcache', 'aneh', 'jadi', 'lapak', 'dagang', 'samsung', 'galaxy', 'edge', 'garansi', 'resmi', 'sein', 'sajasedangkan', 'lapak', 'produk', 'semua', 'normalsaya', 'telpon', 'costumer', 'care', 'lapor', 'bukabantuan', 'solvedsudah', 'isi', 'formnyamsh', 'blm', 'solved'], ['kalau', 'bukalapak', 'segera', 'benah', 'lama', 'lagi', 'tinggal', 'pelapaknyadan', 'customernya', 'tahap', 'terus', 'terang', 'pindah', 'lapak', 'marketplace', 'lbh', 'nyaman', 'transaksi', 'lapak', 'sekian', 'lama', 'kecewa', 'layan', 'admin', 'bl', 'sangat', 'arogan', 'kerja', 'team', 'bukalapak', 'sendrii', 'mau', 'introspeksi', 'hari', 'rupa', 'puncak', 'kecewa', 'mulai', 'malam', 'prepare', 'bye', 'bye', 'bukalapak'], ['hi', 'admin', 'tadi', 'topup', 'saldo', 'pilih', 'bayar', 'via', 'bri', 'briva', 'mau', 'laku', 'tranfer', 'via', 'bri', 'nyata', 'ganggu', 'jadi', 'ubah', 'metode', 'bayar', 'bri', 'bca', 'nyata', 'tranfer', 'lalu', 'bri', 'kirim', 'metode', 'bayar', 'lanjur', 'ubah', 'jadi', 'bca', 'jadi', 'sampe', 'sekarang', 'masuk', 'akun', 'dana', 'bl'], ['sangaaat', 'kecewa', 'bukalapak', 'pertama', 'jual', 'barang', 'lalu', 'terima', 'konfirmasi', 'uang', 'tdk', 'langsung', 'masuk', 'bukadompet', 'komplain', 'dulu', 'baru', 'masuk', 'dua', 'bukadompet', 'beku', 'pemberitahuan', 'apa', 'tdk', 'erti', 'salah', 'apa', 'padahal', 'mau', 'cair', 'uang', 'karna', 'sangat', 'butuh', 'sekali', 'uang', 'tiga', 'komplain', 'bukabantuan', 'kena', 'bukadompet', 'beku', 'satu', 'respon', 'bukalapak', 'segera', 'tinjau'], ['nah', 'gin', 'dong', 'min', 'kan', 'enak', 'orang', 'yg', 'ikut', 'serbu', 'seru', 'ga', 'kesel', 'kalo', 'dana', 'kembali', 'bntuk', 'saldo', 'buka', 'dompet', 'jgn', 'kembali', 'bentuk', 'barang', 'yg', 'semua', 'orang', 'suka', 'sekalipun', 'ganti', 'barang', 'serbu', 'punya', 'hak', 'batal', 'barang', 'ganti', 'serbuanya', 'meleset', 'jgn', 'kaya', 'kemarin', 'dicancel', 'malah', 'tolak', 'sama', 'lapak'], ['sangat', 'kecewa', 'tanggung', 'jawab', 'bukalapak', 'tipu', 'lapak', 'rupiah', 'tau', 'kalo', 'akum', 'hack', 'minta', 'tanggung', 'jawab', 'bukalapak', 'atas', 'apa', 'yg', 'jadi', 'lapor', 'cs', 'akun', 'resmi', 'bukalapak', 'respon', 'nya', 'sangat', 'tida', 'jelas', 'lelet', 'akun', 'bukalapak', 'tipu', 'aktif', 'apa', 'tanggung', 'jawab', 'bl', 'beli', 'kena', 'tipu', 'bl', 'apa', 'semua', 'salah', 'beli', 'apa', 'semua', 'jual', 'bl', 'si', 'penipusaya', 'sangat', 'kapok', 'belanja', 'bl'], ['min', 'apl', 'error', 'tuh', 'dah', 'log', 'in', 'tahun', 'lalu', 'suruh', 'log', 'in', 'lihat', 'transaksi', 'kode', 'bayar', 'benahin', 'lah', 'masak', 'sampe', 'digit', 'top', 'up', 'dana', 'kode', 'pembacayaran', 'sampe', 'belanja', 'kode', 'sampe', 'makin', 'ngaco', 'dah', 'email', 'bl', 'dah', 'tutup', 'kendala', 'suruh', 'forum', 'kata', 'biar', 'jadi', 'guna', 'cerdas', 'mau', 'lapor', 'min', 'bukan', 'ngrumpi'], ['laku', 'transaksi', 'bukamart', 'saldo', 'buka', 'dompet', 'malah', 'potong', 'notif', 'transaksi', 'sedang', 'proses', 'minta', 'dibatalkankarena', 'rasa', 'laku', 'transaksi', 'sama', 'sekali', 'bukamart', 'malah', 'tolak', 'alas', 'barang', 'kirim', 'mohon', 'jelas'], ['banyak', 'sini', 'lapak', 'sifat', 'nya', 'tipu', 'alas', 'gambar', 'postingan', 'lapak', 'giur', 'belanja', 'laku', 'transaksi', 'si', 'konsumen', 'kecewa', 'barang', 'terima', 'sesuai', 'yg', 'posting', 'lapak', 'konsumen', 'sangat', 'rugi', 'apa', 'bila', 'barang', 'kn', 'kena', 'biaya', 'ongkos', 'kirim', 'sini', 'pihak', 'buka', 'lapak', 'lebih', 'jeli', 'rekrut', 'pelapakpelapak', 'yg', 'dagang', 'situs', 'harap', 'saring', 'lapak', 'yg', 'jelas'], ['ikut', 'serbu', 'emas', 'uang', 'bukan', 'kembali', 'buka', 'dompet', 'malah', 'buka', 'emasgak', 'semua', 'orang', 'mau', 'ikhlas', 'loh', 'duit', 'ilang', 'gitu', 'aja', 'harus', 'konfirmasi', 'mau', 'kembali', 'buka', 'dompet', 'buka', 'emasbiar', 'gak', 'kes', 'maksa', 'sama', 'arti', 'gak', 'berkah', 'nyimpen', 'duit', 'orangmeski', 'cuma', 'kalau', 'kali', 'juta', 'orang', 'ikut', 'serbu', 'emas', 'berapa', 'banyak', 'uang', 'yg', 'bukalapak', 'ambil', 'ikhlas', 'milik', 'uang'], ['beli', 'celana', 'bayar', 'konfirmasi', 'otomatis', 'padahal', 'transfer', 'sama', 'digit', 'angka', 'akhir', 'upload', 'bukti', 'bayar', 'lama', 'lama', 'payah', 'bukalapak', 'dulu', 'pernah', 'beli', 'pulsa', 'memang', 'lupa', 'transfer', 'gak', 'digit', 'angka', 'akhir', 'tpi', 'pihak', 'buka', 'lapak', 'email', 'gak', 'balas'], ['bnyk', 'tipu', 'aplikasi', 'iniharap', 'hati'], ['kecewa', 'bukalapak'], ['konfirmasi', 'bayar', 'buka', 'lapak', 'baik', 'laku', 'bayar', 'hasil', 'uang', 'masuk', 'le', 'rekening', 'bri', 'pihak', 'buka', 'lapak', 'konfirmasi', 'bayar', 'kadaluarsa', 'kembali', 'bagaimana', 'lanjut', 'buka', 'lapak'], ['dapet', 'gratis', 'ongkir', 'ongkir', 'tinggi', 'kata', 'voucher', 'pas', 'dipake', 'kuota', 'voucher', 'hari', 'habis', 'maksud', 'apa', 'coba'], ['buka', 'dompet', 'beku', 'aktif', 'lagisaya', 'beli', 'bukan', 'jual'], ['gila', 'bukalapak', 'eror', 'terus'], ['banyak', 'akun', 'palsu'], ['hari', 'gak', 'tanggap', 'bagaimana', 'tindha', 'lanjut', 'voucher', 'pakai', 'isi', 'pulsa', 'minta', 'kirim', 'bukti', 'bayar', 'kirim', 'tak', 'tanggap', 'sama', 'skali', 'skarang', 'sungguh', 'mengecewaka'], ['lebih', 'barang', 'gerak', 'sama', 'sekali', 'gilir', 'buka', 'fitur', 'bukabantuan', 'csnya', 'cuma', 'nampilin', 'status', 'barang', 'benar', 'punya', 'resi', 'cek', 'arah', 'ekspedisi'], ['aplikasi', 'apa', 'error', 'mulu', 'bikin', 'kesel', 'ram', 'gua', 'udh', 'masa', 'eror', 'mulu', 'udh', 'update', 'tetep', 'sama'], ['sekarang', 'tiap', 'belanja', 'pasu', 'kode', 'voucher'], ['aplikasi', 'buka', 'maling', 'ni', 'jangan', 'download', 'ntr', 'nyesel', 'ngisi', 'pulsa', 'masuk', 'uang'], ['kendala', 'beli', 'si', 'lapak', 'tipu', 'batal', 'beli', 'uang', 'kapan', 'hari', 'jawab', 'cs', 'aja', 'malah', 'kaya', 'gw', 'ngemis', 'minta', 'uang', 'gw', 'manusia', 'apa', 'jin', 'parah', 'laku'], ['gak', 'daftar', 'no', 'telepon', 'aplikasi', 'kode', 'verifikasi', 'nya'], ['buka', 'lapak', 'banyak', 'tipu', 'rugi', 'besarpihak', 'buka', 'lapak', 'ga', 'tanggung', 'jawabbaru', 'aplikasi', 'kaya', 'gin', 'pihak', 'buka', 'lapak', 'ga', 'tanggung', 'jawab'], ['aplikasi', 'eror', 'terooossss'], ['bukalapak', 'jelek']]\n"
     ]
    }
   ],
   "source": [
    "stem_tokenized_docs_no_stopwords = []\n",
    "\n",
    "for doc in tokenized_docs_no_stopwords:\n",
    "    new_term_vector = []\n",
    "    for word in doc:\n",
    "        new_term_vector.append(stemmer.stem(word))\n",
    "        \n",
    "    stem_tokenized_docs_no_stopwords.append(new_term_vector)\n",
    "\n",
    "print(stem_tokenized_docs_no_stopwords)"
   ]
  },
  {
   "cell_type": "markdown",
   "metadata": {},
   "source": [
    "### Join Data"
   ]
  },
  {
   "cell_type": "code",
   "execution_count": 16,
   "metadata": {},
   "outputs": [
    {
     "name": "stdout",
     "output_type": "stream",
     "text": [
      "['produk lengkap pokok mantap', 'very good bukalapak is the best', 'sangat muas belanja bukalapak', 'good apps memang bukalapak', 'aplikasi ecommerce recomended', 'belanja online diskon', 'masuk kirim barang berat sesuai tinjau kirim paling lambat jt expres estimasi hari tempat tuju hari tinjau kirim atas kg kalau kirim lewat ekspedisi laut jangkau biaya kirim banyak langgan yg belanja berat atas kg sangat mahal harga bantu langgan lebih maju makasih', 'alhamdulillah tau aplikasi bl ragu laku transaksi beli lalu online tahu bukalapak jadi yakin diri laku transaksi beli barang lali online ragu aman mudah detik aman moga selalu manfaat semua penguna aplikasi bukalapak', 'cari butuh baik upa barang maupun jasa lain jadi mudah hadir bukalapak pribadi sy banyak tolong dgn fasilitas yg sedia bl sekalipun lapak yg konsisten dgn barang lapak terapi strategi khusus yg upaya bl dlm upaya bisnis online tetap tahan prinsip beli raja maju sukses selalu bukalapak', 'belanja buka lapak sangat mudah sanhat baik layan nyaterima kasih buka lapak ada buka lapak belanja sangat mudah perlu kesana kemari cukup buka android tinggal cari deh apa yg ingin buka lapak semua jadi gak usah ragu belanja siniayo buru install aplikasi nya dapat mudah belanja online hambur uang tenaga beli ingin indonesia makin maju sama bl', 'nilai bintang baik signifikan lama nya proses cair dana moga depan baik ingat cair dana sangat penting guna bl utama seller kembang usaha nya sendiri terimakasih bukalapak', 'mohon kode bayar jgn besar besar biasa cuma tambahin digit angka lah sampe digit bayar listrik cashbacknya kode bayar pas sy cek blum kembali utk kode mau untung malah buntung klo kode bayar kembali nama tipu klo kembali sy baik bintang terimakasih', 'aplikasi yg sangat bantu belanja apa berkat aplikasi jadi susah cari barang mau tadi jadi terima kasih bukalapak', 'dear bukalapak baik lg supya aplikasi nya lebih ringan buka nya semenjak update malah jadi lot banget mau lihat barang kranjang aja butuh waktu menit loading nya signal full jaring aplikasi nya yg lot sangat ganggu aktivitas jual beli', 'alhamdulillah terimakasih bukalapak terimakasih mau dengar keluh kesah baik hubung yg sempet retak bintang hak kalian kembali sekali terimakasih we love bukalapak', 'bukalapak selalu jadi tempat jujugan yg utama kalo mau belanja lalu online krn siip mantap aman bnyk promo diskon free ongkir cashback harga saing ramah kantong alias lbh murah drpd online shop laine', 'bukalapak jaya sukses bidang aplikasi online banyak keluh guna aplikasi ada dana masuk keluh ada dana guna aplikasi kembali mula saldo nya tetap dana kecuali guna nya pindah saldo sendiri terimaksih banyak pihak bukalapak kerja sama', 'admin bukalapak unbind ganti akun dana bukalapak bagaimana buka faq ganti nomor sesuai akun dana aktif id dana ganti mohon tambah menu ganti id dana logout id dana bukalapak apps terimakasih user bukalapak', 'mohon bantu bagaimana cara hapus riwayat transaksi aplikasi bukalapak terlalu banyak jadi transaksi nya jadi tambah banyak mohon bantu user hapus sendiri riwayat transaksi email terima kasih', 'mantap soal harga sangat sensitif kalau harga cantum depan harga lebih baik tahu buyer tanya langsung seller timbang kalau buka toko bl harga habishabisan gak saing maksimal lebih mantap', 'bagus sih jual gampang fiturnya jg mudah lapak opsi kirim jg banyak banding marketplace cuma dong bl live chat nya jadi kalau complain langsung jawab ga email dlu isi form trus tunggu balesan yg slow respone karna kalau masalah urgent jd cpt atas oiya sama lot sih kalau buka aplikasi suka sering eror mau upload produk susah kalau cair dana transfer cepat dong thx', 'enak versi yg nya up date versi baru malah tampil flash deal tampil awal tdk muncul lokasi lapak nya buka klo versi lama flash deal tampil awal sdh tahu lokasi lapak nya tak tambah bintang lg jd ntar kalo respon dgn ubah mudah sblm nya jd bintang', 'tingkat bukalapak versi temu bug error mau simpan gambar app blnya om zaky cuman koreksi sedikit si', 'respon cepat barang jamin banyak pilih', 'terus jadi fokus utama langgan', 'bukalapak mantap jiwa belanja kini mudah berkat jual bukalapak kini hasil bersih ku bulan trimakasih bukalapak', 'on time', 'toko online yg verifikasi bayar cepet', 'bagus sangat bantu ukm terimakasih bukalapak', 'sangat mudah cari butuh', 'buka lapak hormat putus aja ikut serbaserbu tahun hari ikut kali selalu beli semua produk nya tawa detik satu produk dapat bayang semua produk beli serbaserbu hari pernah satu kemudian selalu coba ikut tepat waktu detik mulai hasil gagal moga real komen pernah real', 'update turun rating beberapa list data barang buka mall tampil menu langsung force close beberapa menu transaksi barang selalu muncul notif harap login dulu padahal pernah logout dr aplikasi khawatir akun kena hack la terus bagaimana', 'beli quota ga njiir padahal udh proses bayar mau kompalin ga customer service nya padahal udh ss udh bukti bayar ttp ga bsa trus buat apa form buat kompalin klo mw kirim kompalin ga kan tolol aplikasi dana nya ga update lot sering lambat kalau bayar sungguh mengecewakanbelum aplikasi dana nya', 'halo team bukalapak tolong sayakenapa edit produktidak edit variantsetiap mau edit upload selalu gagalmentaldan hp jadi ngehanksinyal stabil telkomsel clearcache aneh jadi lapak dagang samsung galaxy edge garansi resmi sein sajasedangkan lapak produk semua normalsaya telpon costumer care lapor bukabantuan solvedsudah isi formnyamsh blm solved', 'kalau bukalapak segera benah lama lagi tinggal pelapaknyadan customernya tahap terus terang pindah lapak marketplace lbh nyaman transaksi lapak sekian lama kecewa layan admin bl sangat arogan kerja team bukalapak sendrii mau introspeksi hari rupa puncak kecewa mulai malam prepare bye bye bukalapak', 'hi admin tadi topup saldo pilih bayar via bri briva mau laku tranfer via bri nyata ganggu jadi ubah metode bayar bri bca nyata tranfer lalu bri kirim metode bayar lanjur ubah jadi bca jadi sampe sekarang masuk akun dana bl', 'sangaaat kecewa bukalapak pertama jual barang lalu terima konfirmasi uang tdk langsung masuk bukadompet komplain dulu baru masuk dua bukadompet beku pemberitahuan apa tdk erti salah apa padahal mau cair uang karna sangat butuh sekali uang tiga komplain bukabantuan kena bukadompet beku satu respon bukalapak segera tinjau', 'nah gin dong min kan enak orang yg ikut serbu seru ga kesel kalo dana kembali bntuk saldo buka dompet jgn kembali bentuk barang yg semua orang suka sekalipun ganti barang serbu punya hak batal barang ganti serbuanya meleset jgn kaya kemarin dicancel malah tolak sama lapak', 'sangat kecewa tanggung jawab bukalapak tipu lapak rupiah tau kalo akum hack minta tanggung jawab bukalapak atas apa yg jadi lapor cs akun resmi bukalapak respon nya sangat tida jelas lelet akun bukalapak tipu aktif apa tanggung jawab bl beli kena tipu bl apa semua salah beli apa semua jual bl si penipusaya sangat kapok belanja bl', 'min apl error tuh dah log in tahun lalu suruh log in lihat transaksi kode bayar benahin lah masak sampe digit top up dana kode pembacayaran sampe belanja kode sampe makin ngaco dah email bl dah tutup kendala suruh forum kata biar jadi guna cerdas mau lapor min bukan ngrumpi', 'laku transaksi bukamart saldo buka dompet malah potong notif transaksi sedang proses minta dibatalkankarena rasa laku transaksi sama sekali bukamart malah tolak alas barang kirim mohon jelas', 'banyak sini lapak sifat nya tipu alas gambar postingan lapak giur belanja laku transaksi si konsumen kecewa barang terima sesuai yg posting lapak konsumen sangat rugi apa bila barang kn kena biaya ongkos kirim sini pihak buka lapak lebih jeli rekrut pelapakpelapak yg dagang situs harap saring lapak yg jelas', 'ikut serbu emas uang bukan kembali buka dompet malah buka emasgak semua orang mau ikhlas loh duit ilang gitu aja harus konfirmasi mau kembali buka dompet buka emasbiar gak kes maksa sama arti gak berkah nyimpen duit orangmeski cuma kalau kali juta orang ikut serbu emas berapa banyak uang yg bukalapak ambil ikhlas milik uang', 'beli celana bayar konfirmasi otomatis padahal transfer sama digit angka akhir upload bukti bayar lama lama payah bukalapak dulu pernah beli pulsa memang lupa transfer gak digit angka akhir tpi pihak buka lapak email gak balas', 'bnyk tipu aplikasi iniharap hati', 'kecewa bukalapak', 'konfirmasi bayar buka lapak baik laku bayar hasil uang masuk le rekening bri pihak buka lapak konfirmasi bayar kadaluarsa kembali bagaimana lanjut buka lapak', 'dapet gratis ongkir ongkir tinggi kata voucher pas dipake kuota voucher hari habis maksud apa coba', 'buka dompet beku aktif lagisaya beli bukan jual', 'gila bukalapak eror terus', 'banyak akun palsu', 'hari gak tanggap bagaimana tindha lanjut voucher pakai isi pulsa minta kirim bukti bayar kirim tak tanggap sama skali skarang sungguh mengecewaka', 'lebih barang gerak sama sekali gilir buka fitur bukabantuan csnya cuma nampilin status barang benar punya resi cek arah ekspedisi', 'aplikasi apa error mulu bikin kesel ram gua udh masa eror mulu udh update tetep sama', 'sekarang tiap belanja pasu kode voucher', 'aplikasi buka maling ni jangan download ntr nyesel ngisi pulsa masuk uang', 'kendala beli si lapak tipu batal beli uang kapan hari jawab cs aja malah kaya gw ngemis minta uang gw manusia apa jin parah laku', 'gak daftar no telepon aplikasi kode verifikasi nya', 'buka lapak banyak tipu rugi besarpihak buka lapak ga tanggung jawabbaru aplikasi kaya gin pihak buka lapak ga tanggung jawab', 'aplikasi eror terooossss', 'bukalapak jelek']\n"
     ]
    }
   ],
   "source": [
    "Data_After_Preprocessing = []\n",
    "\n",
    "for doc in stem_tokenized_docs_no_stopwords:\n",
    "    text = \" \".join(doc)\n",
    "    Data_After_Preprocessing.append(text)\n",
    "    \n",
    "print(Data_After_Preprocessing)"
   ]
  },
  {
   "cell_type": "code",
   "execution_count": 17,
   "metadata": {},
   "outputs": [],
   "source": [
    "## PREPROCESSING FUNCTION\n"
   ]
  },
  {
   "cell_type": "code",
   "execution_count": 18,
   "metadata": {},
   "outputs": [],
   "source": [
    "#Removing columns\n",
    "data.drop(columns = ['ID'], inplace = True)"
   ]
  },
  {
   "cell_type": "code",
   "execution_count": 19,
   "metadata": {},
   "outputs": [
    {
     "data": {
      "text/html": [
       "<div>\n",
       "<style scoped>\n",
       "    .dataframe tbody tr th:only-of-type {\n",
       "        vertical-align: middle;\n",
       "    }\n",
       "\n",
       "    .dataframe tbody tr th {\n",
       "        vertical-align: top;\n",
       "    }\n",
       "\n",
       "    .dataframe thead th {\n",
       "        text-align: right;\n",
       "    }\n",
       "</style>\n",
       "<table border=\"1\" class=\"dataframe\">\n",
       "  <thead>\n",
       "    <tr style=\"text-align: right;\">\n",
       "      <th></th>\n",
       "      <th>Ulasan</th>\n",
       "      <th>Kelas</th>\n",
       "      <th>Preprocessing_Ulasan</th>\n",
       "    </tr>\n",
       "  </thead>\n",
       "  <tbody>\n",
       "    <tr>\n",
       "      <th>21</th>\n",
       "      <td>Enak versi yg sebelum nya.. Setelah di up date...</td>\n",
       "      <td>Positif</td>\n",
       "      <td>enak versi yg nya up date versi baru malah tam...</td>\n",
       "    </tr>\n",
       "    <tr>\n",
       "      <th>58</th>\n",
       "      <td>hati2 buka lapak banyak penipu. saya rugi besa...</td>\n",
       "      <td>Negatif</td>\n",
       "      <td>buka lapak banyak tipu rugi besarpihak buka la...</td>\n",
       "    </tr>\n",
       "    <tr>\n",
       "      <th>15</th>\n",
       "      <td>Bukalapak selalu menjadi tempat jujugan saya y...</td>\n",
       "      <td>Positif</td>\n",
       "      <td>bukalapak selalu jadi tempat jujugan yg utama ...</td>\n",
       "    </tr>\n",
       "  </tbody>\n",
       "</table>\n",
       "</div>"
      ],
      "text/plain": [
       "                                               Ulasan    Kelas  \\\n",
       "21  Enak versi yg sebelum nya.. Setelah di up date...  Positif   \n",
       "58  hati2 buka lapak banyak penipu. saya rugi besa...  Negatif   \n",
       "15  Bukalapak selalu menjadi tempat jujugan saya y...  Positif   \n",
       "\n",
       "                                 Preprocessing_Ulasan  \n",
       "21  enak versi yg nya up date versi baru malah tam...  \n",
       "58  buka lapak banyak tipu rugi besarpihak buka la...  \n",
       "15  bukalapak selalu jadi tempat jujugan yg utama ...  "
      ]
     },
     "execution_count": 19,
     "metadata": {},
     "output_type": "execute_result"
    }
   ],
   "source": [
    "data['Preprocessing_Ulasan'] = Data_After_Preprocessing\n",
    "data.sample(3)\n"
   ]
  },
  {
   "cell_type": "markdown",
   "metadata": {},
   "source": [
    "# Membuat Train test"
   ]
  },
  {
   "cell_type": "markdown",
   "metadata": {},
   "source": [
    "Setelah melakukan langkah diatas, selanjutnya memisahkan data latih dan data uji untuk memisahkannya, disini menggunakan library sklearn"
   ]
  },
  {
   "cell_type": "code",
   "execution_count": 58,
   "metadata": {},
   "outputs": [],
   "source": [
    "from sklearn.model_selection import train_test_split"
   ]
  },
  {
   "cell_type": "code",
   "execution_count": 65,
   "metadata": {},
   "outputs": [],
   "source": [
    "x=data.Preprocessing_Ulasan\n",
    "y=data.Kelas\n",
    "\n",
    "x_train, x_test, y_train, y_test = train_test_split(x,y,test_size=0.1, random_state=5)"
   ]
  },
  {
   "cell_type": "code",
   "execution_count": 66,
   "metadata": {},
   "outputs": [
    {
     "name": "stdout",
     "output_type": "stream",
     "text": [
      "Banyak data x_train :  54\n",
      "Banyak data x_test :  7\n",
      "Banyak data y_train :  54\n",
      "Banyak data y_test :  7\n"
     ]
    }
   ],
   "source": [
    "print('Banyak data x_train : ',len(x_train))\n",
    "print('Banyak data x_test : ',len(x_test))\n",
    "print('Banyak data y_train : ',len(y_train))\n",
    "print('Banyak data y_test : ',len(y_test))"
   ]
  },
  {
   "cell_type": "code",
   "execution_count": 67,
   "metadata": {},
   "outputs": [],
   "source": [
    "from sklearn.feature_extraction.text import TfidfVectorizer\n",
    "from sklearn.linear_model import LogisticRegression\n",
    "\n",
    "tvec = TfidfVectorizer()\n",
    "clf2 = LogisticRegression(solver = \"lbfgs\")\n",
    "\n",
    "\n",
    "from sklearn.pipeline import Pipeline"
   ]
  },
  {
   "cell_type": "code",
   "execution_count": 68,
   "metadata": {},
   "outputs": [
    {
     "data": {
      "text/plain": [
       "array([[4, 1],\n",
       "       [0, 2]], dtype=int64)"
      ]
     },
     "execution_count": 68,
     "metadata": {},
     "output_type": "execute_result"
    }
   ],
   "source": [
    "model = Pipeline([('vectorizer',tvec),('classifier',clf2)])\n",
    "\n",
    "model.fit(x_train, y_train)\n",
    "\n",
    "\n",
    "from sklearn.metrics import confusion_matrix\n",
    "\n",
    "predictions = model.predict(x_test)\n",
    "\n",
    "confusion_matrix(predictions, y_test)\n",
    "\n"
   ]
  },
  {
   "cell_type": "code",
   "execution_count": 69,
   "metadata": {},
   "outputs": [
    {
     "data": {
      "text/html": [
       "<div>\n",
       "<style scoped>\n",
       "    .dataframe tbody tr th:only-of-type {\n",
       "        vertical-align: middle;\n",
       "    }\n",
       "\n",
       "    .dataframe tbody tr th {\n",
       "        vertical-align: top;\n",
       "    }\n",
       "\n",
       "    .dataframe thead th {\n",
       "        text-align: right;\n",
       "    }\n",
       "</style>\n",
       "<table border=\"1\" class=\"dataframe\">\n",
       "  <thead>\n",
       "    <tr style=\"text-align: right;\">\n",
       "      <th></th>\n",
       "      <th>0</th>\n",
       "      <th>1</th>\n",
       "    </tr>\n",
       "  </thead>\n",
       "  <tbody>\n",
       "    <tr>\n",
       "      <th>0</th>\n",
       "      <td>kecewa bukalapak</td>\n",
       "      <td>Negatif</td>\n",
       "    </tr>\n",
       "    <tr>\n",
       "      <th>1</th>\n",
       "      <td>beli celana bayar konfirmasi otomatis padahal ...</td>\n",
       "      <td>Negatif</td>\n",
       "    </tr>\n",
       "    <tr>\n",
       "      <th>2</th>\n",
       "      <td>bukalapak mantap jiwa belanja kini mudah berka...</td>\n",
       "      <td>Positif</td>\n",
       "    </tr>\n",
       "    <tr>\n",
       "      <th>3</th>\n",
       "      <td>bnyk tipu aplikasi iniharap hati</td>\n",
       "      <td>Negatif</td>\n",
       "    </tr>\n",
       "    <tr>\n",
       "      <th>4</th>\n",
       "      <td>terus jadi fokus utama langgan</td>\n",
       "      <td>Negatif</td>\n",
       "    </tr>\n",
       "    <tr>\n",
       "      <th>5</th>\n",
       "      <td>laku transaksi bukamart saldo buka dompet mala...</td>\n",
       "      <td>Negatif</td>\n",
       "    </tr>\n",
       "    <tr>\n",
       "      <th>6</th>\n",
       "      <td>nilai bintang baik signifikan lama nya proses ...</td>\n",
       "      <td>Positif</td>\n",
       "    </tr>\n",
       "  </tbody>\n",
       "</table>\n",
       "</div>"
      ],
      "text/plain": [
       "                                                   0        1\n",
       "0                                   kecewa bukalapak  Negatif\n",
       "1  beli celana bayar konfirmasi otomatis padahal ...  Negatif\n",
       "2  bukalapak mantap jiwa belanja kini mudah berka...  Positif\n",
       "3                   bnyk tipu aplikasi iniharap hati  Negatif\n",
       "4                     terus jadi fokus utama langgan  Negatif\n",
       "5  laku transaksi bukamart saldo buka dompet mala...  Negatif\n",
       "6  nilai bintang baik signifikan lama nya proses ...  Positif"
      ]
     },
     "execution_count": 69,
     "metadata": {},
     "output_type": "execute_result"
    }
   ],
   "source": [
    "DataTes = []\n",
    "i = 0\n",
    "\n",
    "for doc in x_test:\n",
    "    DataTestingJoin = []\n",
    "    DataTestingJoin.append(doc)\n",
    "    DataTestingJoin.append(predictions[i])\n",
    "    DataTes.append(DataTestingJoin)\n",
    "    i = i + 1\n",
    "    \n",
    "pd.DataFrame(DataTes)"
   ]
  },
  {
   "cell_type": "markdown",
   "metadata": {},
   "source": [
    "## Model Prediction"
   ]
  },
  {
   "cell_type": "code",
   "execution_count": 70,
   "metadata": {},
   "outputs": [
    {
     "name": "stdout",
     "output_type": "stream",
     "text": [
      "Accuracy :  0.8571428571428571\n",
      "Precision :  0.9047619047619048\n",
      "Recall :  0.8571428571428571\n"
     ]
    }
   ],
   "source": [
    "from sklearn.metrics import accuracy_score, precision_score, recall_score\n",
    "\n",
    "print(\"Accuracy : \", accuracy_score(predictions, y_test))\n",
    "print(\"Precision : \", precision_score(predictions, y_test, average = 'weighted'))\n",
    "print(\"Recall : \", recall_score(predictions, y_test, average = 'weighted'))"
   ]
  },
  {
   "cell_type": "code",
   "execution_count": 72,
   "metadata": {},
   "outputs": [
    {
     "name": "stdout",
     "output_type": "stream",
     "text": [
      "['Negatif']\n"
     ]
    }
   ],
   "source": [
    "example = [\"bukalapak jelek banget\"]\n",
    "result = model.predict(example)\n",
    "\n",
    "print(result)"
   ]
  },
  {
   "cell_type": "code",
   "execution_count": null,
   "metadata": {},
   "outputs": [],
   "source": []
  },
  {
   "cell_type": "code",
   "execution_count": null,
   "metadata": {},
   "outputs": [],
   "source": []
  }
 ],
 "metadata": {
  "kernelspec": {
   "display_name": "Python 3",
   "language": "python",
   "name": "python3"
  },
  "language_info": {
   "codemirror_mode": {
    "name": "ipython",
    "version": 3
   },
   "file_extension": ".py",
   "mimetype": "text/x-python",
   "name": "python",
   "nbconvert_exporter": "python",
   "pygments_lexer": "ipython3",
   "version": "3.8.3"
  }
 },
 "nbformat": 4,
 "nbformat_minor": 4
}

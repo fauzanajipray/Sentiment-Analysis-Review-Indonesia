{
 "cells": [
  {
   "cell_type": "markdown",
   "metadata": {},
   "source": [
    "# Import Library dan load data"
   ]
  },
  {
   "cell_type": "code",
   "execution_count": 1,
   "metadata": {},
   "outputs": [],
   "source": [
    "import pandas as pd"
   ]
  },
  {
   "cell_type": "code",
   "execution_count": 2,
   "metadata": {},
   "outputs": [],
   "source": [
    "data = pd.read_csv('dataset/train-bukalapak.csv')"
   ]
  },
  {
   "cell_type": "code",
   "execution_count": 3,
   "metadata": {},
   "outputs": [
    {
     "data": {
      "text/plain": [
       "(303, 3)"
      ]
     },
     "execution_count": 3,
     "metadata": {},
     "output_type": "execute_result"
    }
   ],
   "source": [
    "data.shape"
   ]
  },
  {
   "cell_type": "code",
   "execution_count": 4,
   "metadata": {},
   "outputs": [
    {
     "data": {
      "text/html": [
       "<div>\n",
       "<style scoped>\n",
       "    .dataframe tbody tr th:only-of-type {\n",
       "        vertical-align: middle;\n",
       "    }\n",
       "\n",
       "    .dataframe tbody tr th {\n",
       "        vertical-align: top;\n",
       "    }\n",
       "\n",
       "    .dataframe thead th {\n",
       "        text-align: right;\n",
       "    }\n",
       "</style>\n",
       "<table border=\"1\" class=\"dataframe\">\n",
       "  <thead>\n",
       "    <tr style=\"text-align: right;\">\n",
       "      <th></th>\n",
       "      <th>ID</th>\n",
       "      <th>Description</th>\n",
       "      <th>Is_Response</th>\n",
       "    </tr>\n",
       "  </thead>\n",
       "  <tbody>\n",
       "    <tr>\n",
       "      <th>0</th>\n",
       "      <td>1</td>\n",
       "      <td>belanja murah &amp; mudah say</td>\n",
       "      <td>happy</td>\n",
       "    </tr>\n",
       "    <tr>\n",
       "      <th>1</th>\n",
       "      <td>2</td>\n",
       "      <td>belanja produk digital disini aja gaesss pulsa...</td>\n",
       "      <td>happy</td>\n",
       "    </tr>\n",
       "    <tr>\n",
       "      <th>2</th>\n",
       "      <td>3</td>\n",
       "      <td>Sering belanja di bukalapak. Nyaman murah terp...</td>\n",
       "      <td>happy</td>\n",
       "    </tr>\n",
       "    <tr>\n",
       "      <th>3</th>\n",
       "      <td>4</td>\n",
       "      <td>ecommerce yang mudah utk belanja</td>\n",
       "      <td>happy</td>\n",
       "    </tr>\n",
       "    <tr>\n",
       "      <th>4</th>\n",
       "      <td>5</td>\n",
       "      <td>Sangat membantu hidup saya..  mudah2n bukalapa...</td>\n",
       "      <td>happy</td>\n",
       "    </tr>\n",
       "  </tbody>\n",
       "</table>\n",
       "</div>"
      ],
      "text/plain": [
       "   ID                                        Description Is_Response\n",
       "0   1                          belanja murah & mudah say       happy\n",
       "1   2  belanja produk digital disini aja gaesss pulsa...       happy\n",
       "2   3  Sering belanja di bukalapak. Nyaman murah terp...       happy\n",
       "3   4                   ecommerce yang mudah utk belanja       happy\n",
       "4   5  Sangat membantu hidup saya..  mudah2n bukalapa...       happy"
      ]
     },
     "execution_count": 4,
     "metadata": {},
     "output_type": "execute_result"
    }
   ],
   "source": [
    "data.head(5)"
   ]
  },
  {
   "cell_type": "code",
   "execution_count": 5,
   "metadata": {},
   "outputs": [
    {
     "data": {
      "text/html": [
       "<div>\n",
       "<style scoped>\n",
       "    .dataframe tbody tr th:only-of-type {\n",
       "        vertical-align: middle;\n",
       "    }\n",
       "\n",
       "    .dataframe tbody tr th {\n",
       "        vertical-align: top;\n",
       "    }\n",
       "\n",
       "    .dataframe thead th {\n",
       "        text-align: right;\n",
       "    }\n",
       "</style>\n",
       "<table border=\"1\" class=\"dataframe\">\n",
       "  <thead>\n",
       "    <tr style=\"text-align: right;\">\n",
       "      <th></th>\n",
       "      <th>ID</th>\n",
       "      <th>Description</th>\n",
       "      <th>Is_Response</th>\n",
       "    </tr>\n",
       "  </thead>\n",
       "  <tbody>\n",
       "    <tr>\n",
       "      <th>298</th>\n",
       "      <td>299</td>\n",
       "      <td>Sejauh ini gak ada kendala dan masalah. Serta ...</td>\n",
       "      <td>happy</td>\n",
       "    </tr>\n",
       "    <tr>\n",
       "      <th>299</th>\n",
       "      <td>300</td>\n",
       "      <td>Luar biasa. Baru kali ini saya mendapat keuntu...</td>\n",
       "      <td>happy</td>\n",
       "    </tr>\n",
       "    <tr>\n",
       "      <th>300</th>\n",
       "      <td>301</td>\n",
       "      <td>jangan sampe ngga belanja pokoknya hehe</td>\n",
       "      <td>happy</td>\n",
       "    </tr>\n",
       "    <tr>\n",
       "      <th>301</th>\n",
       "      <td>302</td>\n",
       "      <td>sudah ngga lemot bagus bukalapak</td>\n",
       "      <td>happy</td>\n",
       "    </tr>\n",
       "    <tr>\n",
       "      <th>302</th>\n",
       "      <td>303</td>\n",
       "      <td>Saya sangat nyaman belanja di Bukalapak, Harga...</td>\n",
       "      <td>happy</td>\n",
       "    </tr>\n",
       "  </tbody>\n",
       "</table>\n",
       "</div>"
      ],
      "text/plain": [
       "      ID                                        Description Is_Response\n",
       "298  299  Sejauh ini gak ada kendala dan masalah. Serta ...       happy\n",
       "299  300  Luar biasa. Baru kali ini saya mendapat keuntu...       happy\n",
       "300  301            jangan sampe ngga belanja pokoknya hehe       happy\n",
       "301  302                   sudah ngga lemot bagus bukalapak       happy\n",
       "302  303  Saya sangat nyaman belanja di Bukalapak, Harga...       happy"
      ]
     },
     "execution_count": 5,
     "metadata": {},
     "output_type": "execute_result"
    }
   ],
   "source": [
    "data.tail(5)"
   ]
  },
  {
   "cell_type": "code",
   "execution_count": 6,
   "metadata": {},
   "outputs": [
    {
     "data": {
      "text/html": [
       "<div>\n",
       "<style scoped>\n",
       "    .dataframe tbody tr th:only-of-type {\n",
       "        vertical-align: middle;\n",
       "    }\n",
       "\n",
       "    .dataframe tbody tr th {\n",
       "        vertical-align: top;\n",
       "    }\n",
       "\n",
       "    .dataframe thead th {\n",
       "        text-align: right;\n",
       "    }\n",
       "</style>\n",
       "<table border=\"1\" class=\"dataframe\">\n",
       "  <thead>\n",
       "    <tr style=\"text-align: right;\">\n",
       "      <th></th>\n",
       "      <th>ID</th>\n",
       "      <th>Description</th>\n",
       "      <th>Is_Response</th>\n",
       "    </tr>\n",
       "  </thead>\n",
       "  <tbody>\n",
       "    <tr>\n",
       "      <th>128</th>\n",
       "      <td>129</td>\n",
       "      <td>hari jumat tgl 14 maret saya order tanpa login...</td>\n",
       "      <td>not happy</td>\n",
       "    </tr>\n",
       "    <tr>\n",
       "      <th>85</th>\n",
       "      <td>86</td>\n",
       "      <td>apa apaan ini? aplikasi sama developernya udah...</td>\n",
       "      <td>not happy</td>\n",
       "    </tr>\n",
       "    <tr>\n",
       "      <th>43</th>\n",
       "      <td>44</td>\n",
       "      <td>Bukalapak My Hero. Aman. Mudah. Cepat. Saya da...</td>\n",
       "      <td>happy</td>\n",
       "    </tr>\n",
       "    <tr>\n",
       "      <th>89</th>\n",
       "      <td>90</td>\n",
       "      <td>kenapa susah sekali saya mencari barang yg di ...</td>\n",
       "      <td>not happy</td>\n",
       "    </tr>\n",
       "    <tr>\n",
       "      <th>248</th>\n",
       "      <td>249</td>\n",
       "      <td>Terima kasih atas tanggung jawab dari pihak b...</td>\n",
       "      <td>happy</td>\n",
       "    </tr>\n",
       "  </tbody>\n",
       "</table>\n",
       "</div>"
      ],
      "text/plain": [
       "      ID                                        Description Is_Response\n",
       "128  129  hari jumat tgl 14 maret saya order tanpa login...   not happy\n",
       "85    86  apa apaan ini? aplikasi sama developernya udah...   not happy\n",
       "43    44  Bukalapak My Hero. Aman. Mudah. Cepat. Saya da...       happy\n",
       "89    90  kenapa susah sekali saya mencari barang yg di ...   not happy\n",
       "248  249   Terima kasih atas tanggung jawab dari pihak b...       happy"
      ]
     },
     "execution_count": 6,
     "metadata": {},
     "output_type": "execute_result"
    }
   ],
   "source": [
    "data.sample(5)"
   ]
  },
  {
   "cell_type": "code",
   "execution_count": 7,
   "metadata": {},
   "outputs": [
    {
     "data": {
      "text/html": [
       "<div>\n",
       "<style scoped>\n",
       "    .dataframe tbody tr th:only-of-type {\n",
       "        vertical-align: middle;\n",
       "    }\n",
       "\n",
       "    .dataframe tbody tr th {\n",
       "        vertical-align: top;\n",
       "    }\n",
       "\n",
       "    .dataframe thead th {\n",
       "        text-align: right;\n",
       "    }\n",
       "</style>\n",
       "<table border=\"1\" class=\"dataframe\">\n",
       "  <thead>\n",
       "    <tr style=\"text-align: right;\">\n",
       "      <th></th>\n",
       "      <th>ID</th>\n",
       "    </tr>\n",
       "  </thead>\n",
       "  <tbody>\n",
       "    <tr>\n",
       "      <th>count</th>\n",
       "      <td>303.000000</td>\n",
       "    </tr>\n",
       "    <tr>\n",
       "      <th>mean</th>\n",
       "      <td>152.000000</td>\n",
       "    </tr>\n",
       "    <tr>\n",
       "      <th>std</th>\n",
       "      <td>87.612784</td>\n",
       "    </tr>\n",
       "    <tr>\n",
       "      <th>min</th>\n",
       "      <td>1.000000</td>\n",
       "    </tr>\n",
       "    <tr>\n",
       "      <th>25%</th>\n",
       "      <td>76.500000</td>\n",
       "    </tr>\n",
       "    <tr>\n",
       "      <th>50%</th>\n",
       "      <td>152.000000</td>\n",
       "    </tr>\n",
       "    <tr>\n",
       "      <th>75%</th>\n",
       "      <td>227.500000</td>\n",
       "    </tr>\n",
       "    <tr>\n",
       "      <th>max</th>\n",
       "      <td>303.000000</td>\n",
       "    </tr>\n",
       "  </tbody>\n",
       "</table>\n",
       "</div>"
      ],
      "text/plain": [
       "               ID\n",
       "count  303.000000\n",
       "mean   152.000000\n",
       "std     87.612784\n",
       "min      1.000000\n",
       "25%     76.500000\n",
       "50%    152.000000\n",
       "75%    227.500000\n",
       "max    303.000000"
      ]
     },
     "execution_count": 7,
     "metadata": {},
     "output_type": "execute_result"
    }
   ],
   "source": [
    "data.describe()"
   ]
  },
  {
   "cell_type": "code",
   "execution_count": 8,
   "metadata": {},
   "outputs": [
    {
     "data": {
      "text/plain": [
       "Index(['ID', 'Description', 'Is_Response'], dtype='object')"
      ]
     },
     "execution_count": 8,
     "metadata": {},
     "output_type": "execute_result"
    }
   ],
   "source": [
    "data.columns"
   ]
  },
  {
   "cell_type": "code",
   "execution_count": 9,
   "metadata": {},
   "outputs": [
    {
     "data": {
      "text/plain": [
       "happy        152\n",
       "not happy    151\n",
       "Name: Is_Response, dtype: int64"
      ]
     },
     "execution_count": 9,
     "metadata": {},
     "output_type": "execute_result"
    }
   ],
   "source": [
    "data['Is_Response'].value_counts()"
   ]
  },
  {
   "cell_type": "markdown",
   "metadata": {},
   "source": [
    "# Text Preproccessing"
   ]
  },
  {
   "cell_type": "code",
   "execution_count": 10,
   "metadata": {},
   "outputs": [],
   "source": [
    "import re\n",
    "\n",
    "from bs4 import BeautifulSoup\n",
    "from nltk.tokenize import WordPunctTokenizer\n",
    "from Sastrawi.StopWordRemover.StopWordRemoverFactory import StopWordRemoverFactory"
   ]
  },
  {
   "cell_type": "code",
   "execution_count": 11,
   "metadata": {},
   "outputs": [],
   "source": [
    "# tok = WordPunctTokenizer\n",
    "\n",
    "# factory = StopWordRemoverFactory()\n",
    "# stopword = factory.create_stop_word_remover()\n",
    " \n",
    "# # Kalimat\n",
    "# kalimat = 'Dengan Menggunakan Python dan Library Sastrawi saya dapat melakukan proses Stopword Removal'\n",
    "# stop = stopword.remove(kalimat)\n",
    "# print(stop)\n",
    "\n",
    "# factory.get_stop_words()"
   ]
  },
  {
   "cell_type": "code",
   "execution_count": 12,
   "metadata": {},
   "outputs": [],
   "source": [
    "#Removing columns\n",
    "data.drop(columns = ['ID'], inplace = True)"
   ]
  },
  {
   "cell_type": "code",
   "execution_count": 13,
   "metadata": {},
   "outputs": [],
   "source": [
    "# Apply first level cleaning\n",
    "import re\n",
    "import string\n",
    "\n",
    "#This function converts to lower-case, removes square bracket, removes numbers and punctuation\n",
    "def text_clean_1(text):\n",
    "    #Case Folding\n",
    "    text = text.lower()\n",
    "    #Remove Punctuation\n",
    "    text = re.sub('\\[.*?\\]', '', text)\n",
    "    text = re.sub('[%s]' % re.escape(string.punctuation), '', text)\n",
    "    text = re.sub('\\w*\\d\\w*', '', text)\n",
    "    return text\n",
    "\n",
    "cleaned1 = lambda x: text_clean_1(x)\n",
    "\n",
    "DataReview = data.Description.apply(cleaned1)"
   ]
  },
  {
   "cell_type": "markdown",
   "metadata": {},
   "source": [
    "# # Tokenization"
   ]
  },
  {
   "cell_type": "code",
   "execution_count": 14,
   "metadata": {},
   "outputs": [],
   "source": [
    "#Tokenization\n",
    "from nltk.tokenize import word_tokenize\n",
    "\n",
    "def text_token(text):\n",
    "    text = [word_tokenize(doc) for doc in text]\n",
    "    return text\n",
    "\n",
    "tokenizing = lambda x: text_token(x)\n",
    "\n",
    "tokenized_docs = tokenizing(DataReview)\n",
    "# print(tokenized_docs)"
   ]
  },
  {
   "cell_type": "code",
   "execution_count": 15,
   "metadata": {},
   "outputs": [],
   "source": [
    "#Sentence tokenization\n",
    "\n",
    "from nltk.tokenize import sent_tokenize\n",
    "\n",
    "def text_sentence(text):\n",
    "    text = [sent_tokenize(doc) for doc in text]\n",
    "    return text\n",
    "\n",
    "sentence_tokenization = lambda x: text_sentence(x)\n",
    "\n",
    "# DataReview = sentence_tokenization(DataReview)\n",
    "# print(DataReview)"
   ]
  },
  {
   "cell_type": "code",
   "execution_count": null,
   "metadata": {},
   "outputs": [],
   "source": [
    "#Removing Stopword\n"
   ]
  },
  {
   "cell_type": "code",
   "execution_count": 16,
   "metadata": {},
   "outputs": [
    {
     "data": {
      "text/html": [
       "<div>\n",
       "<style scoped>\n",
       "    .dataframe tbody tr th:only-of-type {\n",
       "        vertical-align: middle;\n",
       "    }\n",
       "\n",
       "    .dataframe tbody tr th {\n",
       "        vertical-align: top;\n",
       "    }\n",
       "\n",
       "    .dataframe thead th {\n",
       "        text-align: right;\n",
       "    }\n",
       "</style>\n",
       "<table border=\"1\" class=\"dataframe\">\n",
       "  <thead>\n",
       "    <tr style=\"text-align: right;\">\n",
       "      <th></th>\n",
       "      <th>Description</th>\n",
       "      <th>Is_Response</th>\n",
       "      <th>preprocessing_description</th>\n",
       "    </tr>\n",
       "  </thead>\n",
       "  <tbody>\n",
       "    <tr>\n",
       "      <th>0</th>\n",
       "      <td>belanja murah &amp; mudah say</td>\n",
       "      <td>happy</td>\n",
       "      <td>belanja murah  mudah say</td>\n",
       "    </tr>\n",
       "    <tr>\n",
       "      <th>1</th>\n",
       "      <td>belanja produk digital disini aja gaesss pulsa...</td>\n",
       "      <td>happy</td>\n",
       "      <td>belanja produk digital disini aja gaesss pulsa...</td>\n",
       "    </tr>\n",
       "    <tr>\n",
       "      <th>2</th>\n",
       "      <td>Sering belanja di bukalapak. Nyaman murah terp...</td>\n",
       "      <td>happy</td>\n",
       "      <td>sering belanja di bukalapak nyaman murah terpe...</td>\n",
       "    </tr>\n",
       "    <tr>\n",
       "      <th>3</th>\n",
       "      <td>ecommerce yang mudah utk belanja</td>\n",
       "      <td>happy</td>\n",
       "      <td>ecommerce yang mudah utk belanja</td>\n",
       "    </tr>\n",
       "    <tr>\n",
       "      <th>4</th>\n",
       "      <td>Sangat membantu hidup saya..  mudah2n bukalapa...</td>\n",
       "      <td>happy</td>\n",
       "      <td>sangat membantu hidup saya   bukalapak panjang...</td>\n",
       "    </tr>\n",
       "    <tr>\n",
       "      <th>5</th>\n",
       "      <td>SEMAKIN BANYAK TEROBOSAN TEROBOSAN NYA BUKALAP...</td>\n",
       "      <td>happy</td>\n",
       "      <td>semakin banyak terobosan terobosan nya bukalap...</td>\n",
       "    </tr>\n",
       "    <tr>\n",
       "      <th>6</th>\n",
       "      <td>85 % saya menggunakan aplikasi ini saat berbel...</td>\n",
       "      <td>happy</td>\n",
       "      <td>saya menggunakan aplikasi ini saat berbelanj...</td>\n",
       "    </tr>\n",
       "    <tr>\n",
       "      <th>7</th>\n",
       "      <td>Suka bangt Smoga lancar smuanya</td>\n",
       "      <td>happy</td>\n",
       "      <td>suka bangt smoga lancar smuanya</td>\n",
       "    </tr>\n",
       "    <tr>\n",
       "      <th>8</th>\n",
       "      <td>Hendaknya diberi tahu jg persyaratan dan cara ...</td>\n",
       "      <td>happy</td>\n",
       "      <td>hendaknya diberi tahu jg persyaratan dan cara ...</td>\n",
       "    </tr>\n",
       "    <tr>\n",
       "      <th>9</th>\n",
       "      <td>Aplikasinya keren.paling responsive dibanding ...</td>\n",
       "      <td>happy</td>\n",
       "      <td>aplikasinya kerenpaling responsive dibanding e...</td>\n",
       "    </tr>\n",
       "  </tbody>\n",
       "</table>\n",
       "</div>"
      ],
      "text/plain": [
       "                                         Description Is_Response  \\\n",
       "0                          belanja murah & mudah say       happy   \n",
       "1  belanja produk digital disini aja gaesss pulsa...       happy   \n",
       "2  Sering belanja di bukalapak. Nyaman murah terp...       happy   \n",
       "3                   ecommerce yang mudah utk belanja       happy   \n",
       "4  Sangat membantu hidup saya..  mudah2n bukalapa...       happy   \n",
       "5  SEMAKIN BANYAK TEROBOSAN TEROBOSAN NYA BUKALAP...       happy   \n",
       "6  85 % saya menggunakan aplikasi ini saat berbel...       happy   \n",
       "7                    Suka bangt Smoga lancar smuanya       happy   \n",
       "8  Hendaknya diberi tahu jg persyaratan dan cara ...       happy   \n",
       "9  Aplikasinya keren.paling responsive dibanding ...       happy   \n",
       "\n",
       "                           preprocessing_description  \n",
       "0                           belanja murah  mudah say  \n",
       "1  belanja produk digital disini aja gaesss pulsa...  \n",
       "2  sering belanja di bukalapak nyaman murah terpe...  \n",
       "3                   ecommerce yang mudah utk belanja  \n",
       "4  sangat membantu hidup saya   bukalapak panjang...  \n",
       "5  semakin banyak terobosan terobosan nya bukalap...  \n",
       "6    saya menggunakan aplikasi ini saat berbelanj...  \n",
       "7                    suka bangt smoga lancar smuanya  \n",
       "8  hendaknya diberi tahu jg persyaratan dan cara ...  \n",
       "9  aplikasinya kerenpaling responsive dibanding e...  "
      ]
     },
     "execution_count": 16,
     "metadata": {},
     "output_type": "execute_result"
    }
   ],
   "source": [
    "data['preprocessing_description'] = pd.DataFrame(data.Description.apply(cleaned1))\n",
    "data.head(10)\n"
   ]
  },
  {
   "cell_type": "markdown",
   "metadata": {},
   "source": [
    "# Membuat Train test"
   ]
  },
  {
   "cell_type": "markdown",
   "metadata": {},
   "source": [
    "Setelah melakukan langkah diatas, selanjutnya memisahkan data latih dan data uji untuk memisahkannya, disini menggunakan library sklearn"
   ]
  },
  {
   "cell_type": "code",
   "execution_count": 17,
   "metadata": {},
   "outputs": [],
   "source": [
    "from sklearn.model_selection import train_test_split"
   ]
  },
  {
   "cell_type": "code",
   "execution_count": 18,
   "metadata": {},
   "outputs": [],
   "source": [
    "x=data.Description\n",
    "y=data.Is_Response\n",
    "\n",
    "x_train, x_test, y_train, y_test = train_test_split(x,y,test_size=0.1, random_state=123)"
   ]
  },
  {
   "cell_type": "code",
   "execution_count": 19,
   "metadata": {},
   "outputs": [
    {
     "name": "stdout",
     "output_type": "stream",
     "text": [
      "Banyak data x_train :  272\n",
      "Banyak data x_test :  31\n",
      "Banyak data y_train :  272\n",
      "Banyak data y_test :  31\n"
     ]
    }
   ],
   "source": [
    "print('Banyak data x_train : ',len(x_train))\n",
    "print('Banyak data x_test : ',len(x_test))\n",
    "print('Banyak data y_train : ',len(y_train))\n",
    "print('Banyak data y_test : ',len(y_test))"
   ]
  },
  {
   "cell_type": "code",
   "execution_count": null,
   "metadata": {},
   "outputs": [],
   "source": []
  }
 ],
 "metadata": {
  "kernelspec": {
   "display_name": "Python 3",
   "language": "python",
   "name": "python3"
  },
  "language_info": {
   "codemirror_mode": {
    "name": "ipython",
    "version": 3
   },
   "file_extension": ".py",
   "mimetype": "text/x-python",
   "name": "python",
   "nbconvert_exporter": "python",
   "pygments_lexer": "ipython3",
   "version": "3.8.3"
  }
 },
 "nbformat": 4,
 "nbformat_minor": 4
}
